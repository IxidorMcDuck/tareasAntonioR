{
 "metadata": {
  "kernelspec": {
   "display_name": "Julia 0.3.7-pre",
   "language": "julia",
   "name": "julia 0.3"
  },
  "language": "Julia",
  "language_info": {
   "name": "julia",
   "version": "0.3.7"
  },
  "name": "",
  "signature": "sha256:a24fe41119d6c39744cf805d982f1e848a27669e52910ced476b18d885999430"
 },
 "nbformat": 3,
 "nbformat_minor": 0,
 "worksheets": [
  {
   "cells": [
    {
     "cell_type": "markdown",
     "metadata": {},
     "source": [
      "# An\u00e1lisis de intervalos\n",
      "\n",
      "En el notebook anterior, entre otras cosas, hicieron su m\u00f3dulo para desarrollar la aritm\u00e9tica de intervalos, incluyendo adem\u00e1s algunas pruebas. El m\u00f3dulo permite hacer las operaciones b\u00e1sicas de intervalos, incluyendo las potencias. Adem\u00e1s, vimos que la manera en que uno opera los intervalos influye en la respuesta. Importante es notar que lo que se ha hecho hasta el momento sirve para funciones racionales de la forma $f(x) = p(x) / q(x)$, donde $p(x)$ y $q(x)$ son polinomios en $x$."
     ]
    },
    {
     "cell_type": "markdown",
     "metadata": {},
     "source": [
      "El prop\u00f3sito de este notebook es extender lo ya hecho a las *funciones est\u00e1ndares*, que son $\\exp(x)$ $\\log(x)$, las funciones trigonom\u00e9tricas ($\\sin(x)$, $\\cos(x)$, $\\tan(x)$, etc.), sus inversas ($\\arcsin(x)$, etc), y las hiperb\u00f3licas ($\\sinh(x)$, etc). Combinaciones utilizando las operaciones aritm\u00e9ticas que involucran las funciones est\u00e1ndares (y los polinomios) es lo que constituye a las *funciones elementales*."
     ]
    },
    {
     "cell_type": "code",
     "collapsed": false,
     "input": [
      "C=BigFloat(\".1\")\n",
      "set_rounding(BigFloat,RoundDown)\n",
      "\n",
      "A=BigFloat(\".1\")\n",
      "set_rounding(BigFloat,RoundUp)\n",
      "\n",
      "B=BigFloat(\".1\")\n",
      "println(A)\n",
      "println(B)\n",
      "println(C)"
     ],
     "language": "python",
     "metadata": {},
     "outputs": [
      {
       "output_type": "stream",
       "stream": "stdout",
       "text": [
        "9.999999999999999999999999999999999999999999999999999999999999999999999999999914e-02\n"
       ]
      },
      {
       "output_type": "stream",
       "stream": "stdout",
       "text": [
        "1.000000000000000000000000000000000000000000000000000000000000000000000000000002e-01\n",
        "1.000000000000000000000000000000000000000000000000000000000000000000000000000002e-01\n"
       ]
      }
     ],
     "prompt_number": 3
    },
    {
     "cell_type": "code",
     "collapsed": false,
     "input": [
      "using IntervalosAR\n",
      "t=Interval(.1,.1)\n",
      "tan(Interval(-3.14159265/2,.74+2*3.14159))"
     ],
     "language": "python",
     "metadata": {},
     "outputs": [
      {
       "metadata": {},
       "output_type": "pyout",
       "prompt_number": 2,
       "text": [
        "Interval(-5.571351515655858245248579124051345174912211519178644664228527023233469441721415e+08 with 256 bits of precision,1.043527465745416582143028240044580863467821675997763164742530703724069611265273e+02 with 256 bits of precision)"
       ]
      }
     ],
     "prompt_number": 2
    },
    {
     "cell_type": "code",
     "collapsed": false,
     "input": [
      "sin(.5)\n",
      "cos(pi)\n",
      "tan(pi/4)\n",
      "cot(pi/4)\n",
      "sec(.5)\n",
      "csc(.5)\n",
      "exp(1)\n",
      "log(1)\n",
      "arcsin(1)"
     ],
     "language": "python",
     "metadata": {},
     "outputs": [
      {
       "ename": "LoadError",
       "evalue": "arcsin not defined\nwhile loading In[22], in expression starting on line 9",
       "output_type": "pyerr",
       "traceback": [
        "arcsin not defined\nwhile loading In[22], in expression starting on line 9",
        ""
       ]
      }
     ],
     "prompt_number": 22
    },
    {
     "cell_type": "markdown",
     "metadata": {},
     "source": [
      "## Extensi\u00f3n de funciones a intervalos\n",
      "\n",
      "Si $f(x)$ es una funci\u00f3n elemental *mon\u00f3tona*, su extensi\u00f3n a intervalos intuitivamente es: \n",
      "$F([a,b]) = [F(a),F(b)]$. \n",
      "\n",
      "Para las funciones mon\u00f3tonas est\u00e1ndares, el intervalo $F([a,b])$ que define la extensi\u00f3n de $f(x)$ al intervalo $[a,b]$ es lo que se llama la *extensi\u00f3n natural a intervalos*, ya que  corresponde a una *cota estrecha* del rango de $f(x)$ para $x\\in [a,b]$, que denotaremos $R(f; [a,b])$."
     ]
    },
    {
     "cell_type": "markdown",
     "metadata": {},
     "source": [
      "[1] Ampl\u00eda tu m\u00f3dulo de intervalos para que incluya la extensi\u00f3n de las funciones est\u00e1ndres mon\u00f3tonas a intervalos. En el caso de las potencias, exti\u00e9nde lo que ya hayas hecho para que incluya potencias reales. Incluye algunas pruebas en `pruebas.jl` que muestren que lo que has hecho funciona *bien*."
     ]
    },
    {
     "cell_type": "markdown",
     "metadata": {},
     "source": [
      "[2] \u00bfC\u00f3mo definir\u00edas la extensi\u00f3n a intervalos para funciones no mon\u00f3tonas? Repite [1] para este caso."
     ]
    },
    {
     "cell_type": "markdown",
     "metadata": {},
     "source": [
      "[3] La extensi\u00f3n natural del intervalo para $f(x)=x/(1+x^2)$ es $F(\\mathbf{x})=\\mathbf{x}/(1+\\mathbf{x}^2)$. \u00bfCu\u00e1l es la extensi\u00f3n natural del intervalo para $\\mathbf{x}=[1,2]$? \u00bfC\u00f3mo se compara con el rango $R(f; [1,2])$. Ilustra los resultados con una gr\u00e1fica."
     ]
    },
    {
     "cell_type": "code",
     "collapsed": false,
     "input": [
      "methods(linspace)\n",
      "function f(x)\n",
      "    x/(1+x^2)\n",
      "end\n",
      "function F(X::Interval)\n",
      "    Interval(f(X.lowbound),f(X.upbound))\n",
      "end\n",
      "println(f(1))\n",
      "println(f(2))\n",
      "println(F(Interval(1,2)))\n",
      "println(f(Interval(1,2)))"
     ],
     "language": "python",
     "metadata": {},
     "outputs": [
      {
       "output_type": "stream",
       "stream": "stdout",
       "text": [
        "0.5"
       ]
      },
      {
       "output_type": "stream",
       "stream": "stdout",
       "text": [
        "\n",
        "0.4\n",
        "Interval(4.000000000000000000000000000000000000000000000000000000000000000000000000000009e-01 with 256 bits of precision,5e-01 with 256 bits of precision)\n",
        "Interval(1.999999999999999999999999999999999999999999999999999999999999999999999999999983e-01 with 256 bits of precision,1e+00 with 256 bits of precision)\n"
       ]
      }
     ],
     "prompt_number": 12
    },
    {
     "cell_type": "code",
     "collapsed": false,
     "input": [
      "using PyPlot\n",
      "x=linspace(0,5,100)\n",
      "z=linspace(1,2,20)\n",
      "y = (x./(1+x.^2))\n",
      "y2 = (z./(1+z.^2))\n",
      "plot(x, y, color=\"red\", linewidth=2.0, linestyle=\"-\")\n",
      "plot(z, y2, color=\"green\", linewidth=2.0, linestyle=\"-\")\n",
      "title(\"A\")\n",
      "axhline()\n",
      "axhline(y=.5)\n",
      "axhline(y=2/5)\n",
      "axvline()\n",
      "axvline(x=1)\n",
      "axvline(x=2)"
     ],
     "language": "python",
     "metadata": {},
     "outputs": [
      {
       "output_type": "stream",
       "stream": "stderr",
       "text": [
        "INFO: Loading help data...\n"
       ]
      },
      {
       "metadata": {},
       "output_type": "display_data",
       "png": "[encoded data removed]",
       "text": [
        "Figure(PyObject <matplotlib.figure.Figure object at 0x7ffaa308b750>)"
       ]
      },
      {
       "metadata": {},
       "output_type": "pyout",
       "prompt_number": 1,
       "text": [
        "PyObject <matplotlib.lines.Line2D object at 0x7ffac6693210>"
       ]
      }
     ],
     "prompt_number": 1
    },
    {
     "cell_type": "code",
     "collapsed": false,
     "input": [
      "using PyPlot\n",
      "C=fill(0,(50,50))\n",
      "C[1,2]=1\n",
      "pcolor(C)"
     ],
     "language": "python",
     "metadata": {},
     "outputs": [
      {
       "metadata": {},
       "output_type": "display_data",
       "png": "[encoded data removed]",
       "text": [
        "Figure(PyObject <matplotlib.figure.Figure object at 0x7ffaa1d995d0>)"
       ]
      },
      {
       "metadata": {},
       "output_type": "pyout",
       "prompt_number": 39,
       "text": [
        "PyObject <matplotlib.collections.PolyCollection object at 0x7ffaa1d15c10>"
       ]
      }
     ],
     "prompt_number": 39
    },
    {
     "cell_type": "markdown",
     "metadata": {},
     "source": [
      "El **Teorema Fundamental del An\u00e1lisis de Intervalos** afirma que dada una funci\u00f3n *elemental* $f(x)$ y una extensi\u00f3n natural a intervalos $F$, tal que $F(\\mathbf{x})$ est\u00e1 bien definida para alg\u00fan intervalo $\\mathbf{x}$, entonces:\n",
      "\n",
      "1. Si $\\mathbf{z} \\subseteq \\mathbf{z'} \\subseteq \\mathbf{x} \\Longrightarrow F(\\mathbf{z}) \\subseteq F(\\mathbf{z'}),\\quad$ \"inclusi\u00f3n isot\u00f3nica\" (*inclusion isotonicity*)\n",
      "\n",
      "2. $R(f;\\mathbf{x}) \\subseteq F(\\mathbf{x}),\\quad$ \"acotamiento del rango\" (*range enclosure*)\n"
     ]
    },
    {
     "cell_type": "markdown",
     "metadata": {},
     "source": [
      "La segunda propiedad afirma que la extensi\u00f3n natural $F(\\mathbf{x})$ contiene al rango, lo que entonces acota el rango de $f(x)$ con $F(\\mathbf{x})$. \n",
      "\n",
      "De aqu\u00ed, dado que si $y\\notin F(\\mathbf{x}) \\Longrightarrow y\\notin R(f;\\mathbf{x})$, entonces podemos usar este resultado cuando se buscan las ra\u00edces de alguna funci\u00f3n $f(x)$ en un intervalo: Si $ 0 \\notin F(\\mathbf{x})$ entonces $f(x)$ **no** tiene ra\u00edces en $\\mathbf{x}$."
     ]
    },
    {
     "cell_type": "markdown",
     "metadata": {},
     "source": [
      "[4] Demuestra que $f(x) = (\\sin(x)-x^2+1)\\cos(x)$ no tiene ra\u00edces en $\\mathbf{x}=[0,1/2]$. Ilustra que el argumento es correcto gr\u00e1ficamente."
     ]
    },
    {
     "cell_type": "code",
     "collapsed": false,
     "input": [
      "using PyPlot\n",
      "x=linspace(-1,3,100)\n",
      "z=linspace(0,1/2,20)\n",
      "y = (sin(x)-(x.^2)+1).*cos(x)\n",
      "y2 =(sin(z)-(z.^2)+1).*cos(z)\n",
      "plot(x, y, color=\"red\", linewidth=2.0, linestyle=\"-\")\n",
      "plot(z, y2, color=\"green\", linewidth=2.0, linestyle=\"-\")\n",
      "title(\"B\")\n",
      "axhline()\n",
      "\n",
      "axvline()\n",
      "axvline(x=-.63676)\n"
     ],
     "language": "python",
     "metadata": {},
     "outputs": [
      {
       "metadata": {},
       "output_type": "display_data",
       "png": "[encoded data removed]",
       "text": [
        "Figure(PyObject <matplotlib.figure.Figure object at 0x7fed67184a50>)"
       ]
      },
      {
       "metadata": {},
       "output_type": "pyout",
       "prompt_number": 30,
       "text": [
        "PyObject <matplotlib.lines.Line2D object at 0x7fed670e2f10>"
       ]
      }
     ],
     "prompt_number": 30
    },
    {
     "cell_type": "heading",
     "level": 2,
     "metadata": {
      "collapsed": true
     },
     "source": [
      "Rutina para encontrar ra\u00edces de una funci\u00f3n"
     ]
    },
    {
     "cell_type": "markdown",
     "metadata": {},
     "source": [
      "Ya hemos llegado al punto de poder resolver el siguiente problema:\n",
      "\n",
      "> Dada una funci\u00f3n $f(x)$ y un intervalo $X$, encuentra las ra\u00edces de $f$ dentro de $X$."
     ]
    },
    {
     "cell_type": "markdown",
     "metadata": {},
     "source": [
      "[5] Escribe un c\u00f3digo quer utiliza la propiedad de los ceros para encontrar los intervalos donde *podr\u00eda haber* un cero."
     ]
    },
    {
     "cell_type": "code",
     "collapsed": false,
     "input": [
      "function belongsTo(a,X::Interval)\n",
      "    if a>=X.lowbound && a<=X.upbound\n",
      "        return true\n",
      "    else\n",
      "        return false\n",
      "    end\n",
      "end\n",
      "\n",
      "\n",
      "function midSearch(f,X::Interval)\n",
      "    mid=((X.upbound-X.lowbound)*rand())+X.lowbound\n",
      "    X1=Interval(X.lowbound,mid)\n",
      "    Y1=Interval(f(X1.lowbound),f(X1.upbound))\n",
      "    X2=Interval(mid,X.upbound)\n",
      "    Y2=Interval(f(X2.lowbound),f(X2.upbound))\n",
      "    if belongsTo(0,Y1)\n",
      "        return X1\n",
      "        elseif belongsTo(0,Y2)\n",
      "        return X2\n",
      "    else\n",
      "        println(\"No hay raiz\")\n",
      "    end\n",
      "end\n",
      "\n",
      "function derivative(f,x)\n",
      "    h=2.0^(-30)\n",
      "    b=(f(x+h)-f(x))/h\n",
      "b\n",
      "end\n",
      "\n",
      "\n",
      "function findRoot(f,X::Interval)\n",
      "    Y=midSearch(f,X)\n",
      "    for i=1:100\n",
      "    Y=midSearch(f,Y)\n",
      "    end\n",
      " if (derivative(f,X.lowbound)*derivative(f,X.upbound))>0\n",
      "        println(\"la raiz es \u00fanica en el intervalo\")\n",
      "    end\n",
      "    return Y\n",
      "end\n",
      "\n",
      "function g(x)\n",
      "(sin(x)-(x^2)+1)*cos(x)\n",
      "end\n",
      "\n",
      "function h(x)\n",
      "    x^2\n",
      "end\n",
      "findRoot(h,Interval(1/2,2.5))\n",
      "\n"
     ],
     "language": "python",
     "metadata": {},
     "outputs": [
      {
       "output_type": "stream",
       "stream": "stdout",
       "text": [
        "No hay raiz\n"
       ]
      },
      {
       "ename": "LoadError",
       "evalue": "`midSearch` has no method matching midSearch(::Function, ::Nothing)\nwhile loading In[20], in expression starting on line 50",
       "output_type": "pyerr",
       "traceback": [
        "`midSearch` has no method matching midSearch(::Function, ::Nothing)\nwhile loading In[20], in expression starting on line 50",
        "",
        " in findRoot at In[20]:35"
       ]
      }
     ],
     "prompt_number": 20
    },
    {
     "cell_type": "markdown",
     "metadata": {},
     "source": [
      "[6] Extiende tu c\u00f3digo para utilizar la derivada $f'$, dada a mano, para demostrar (cuando se puede) que el cero es *\u00fanico* en el intervalo."
     ]
    },
    {
     "cell_type": "markdown",
     "metadata": {},
     "source": [
      "[7] Utiliza la *diferenciaci\u00f3n autom\u00e1tica* del notebook 6 para que no tengas que especificar la derivada a mano."
     ]
    }
   ],
   "metadata": {}
  }
 ]
}