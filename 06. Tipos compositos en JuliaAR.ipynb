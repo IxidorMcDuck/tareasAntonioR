{
 "metadata": {
  "kernelspec": {
   "display_name": "Julia 0.3.7-pre",
   "language": "julia",
   "name": "julia 0.3"
  },
  "language": "Julia",
  "language_info": {
   "name": "julia",
   "version": "0.3.7"
  },
  "name": "",
  "signature": "sha256:bbea999bf99c46de2c4d8705fbcc1fd8fcf37163cc6cbc469bde012a15068240"
 },
 "nbformat": 3,
 "nbformat_minor": 0,
 "worksheets": [
  {
   "cells": [
    {
     "cell_type": "heading",
     "level": 1,
     "metadata": {},
     "source": [
      "Tipos comp\u00f3sitos"
     ]
    },
    {
     "cell_type": "markdown",
     "metadata": {},
     "source": [
      "[1] (i) \u00bfC\u00f3mo representar\u00edas a una part\u00edcula en 1D con posici\u00f3n, velocidad y masa en Julia?\n",
      "\n",
      "(ii) \u00bfC\u00f3mo mover\u00edas la part\u00edcula en un paso $\\delta t$?\n",
      "\n",
      "(iii) \u00bfSi necesitas otra part\u00edcula con las mismas propiedades, qu\u00e9 har\u00edas?\n",
      "\n",
      "(iv) Para $N$ tales part\u00edculas, \u00bfqu\u00e9 podr\u00edas hacer?\n"
     ]
    },
    {
     "cell_type": "markdown",
     "metadata": {},
     "source": [
      "Representamos a la particula por la triada de datos(x,v,m), si se desplaza por un tiempo dt: (x,v,m)->(x+v*dt,v,m). \n",
      "Para un conjunto de particulas puedo construir triadas similares y etiquetarlas de la siguiente manera: (x1,v1,m1),(x2,v2,m2),...(xN,vN,mN) \n",
      "con sus respectivas evoluciones:(x1+v1*dt,v1,m1),(x2+v2*dt,v2,m2),...(xN+vN*dt,vN,mN)"
     ]
    },
    {
     "cell_type": "markdown",
     "metadata": {},
     "source": [
      "El problema aqu\u00ed es que la representaci\u00f3n del concepto \"part\u00edcula\" est\u00e1 repartida en distintas variables. Julia provee una manera de recolectar la informaci\u00f3n de un \"objeto\", al definir un *tipo comp\u00f3sito* (\"composite type\"):"
     ]
    },
    {
     "cell_type": "code",
     "collapsed": false,
     "input": [
      "type MiTipo\n",
      "    a\n",
      "    b::Int\n",
      "end"
     ],
     "language": "python",
     "metadata": {},
     "outputs": [],
     "prompt_number": 2
    },
    {
     "cell_type": "markdown",
     "metadata": {},
     "source": [
      "Esto define un tipo de objeto llamado `MiTipo`. Cada objeto de este tipo tendr\u00e1 *adentro* su propia copia de una variable llamada `a` y otra llamada `b`. En este caso, no hemos especificado ning\u00fan tipo para `a`, mientras que `b` est\u00e1 forzado a tener el tipo `Int`. \n",
      "\n",
      "[En general, en Julia, para *anotar* a una variable con un tipo dado, usamos esta notaci\u00f3n con `::`.]"
     ]
    },
    {
     "cell_type": "markdown",
     "metadata": {},
     "source": [
      "[2] Define un tipo que se llama `Particula`, que tiene variables para la posici\u00f3n, velocidad y masa en una dimensi\u00f3n."
     ]
    },
    {
     "cell_type": "code",
     "collapsed": false,
     "input": [
      "type Particula\n",
      "    pos\n",
      "    vel\n",
      "    mass\n",
      "end"
     ],
     "language": "python",
     "metadata": {},
     "outputs": [],
     "prompt_number": 4
    },
    {
     "cell_type": "markdown",
     "metadata": {},
     "source": [
      "[3] Experimenta para ver c\u00f3mo crear un objeto de tipo `Particula`.  [Pista: piensa en funciones]"
     ]
    },
    {
     "cell_type": "code",
     "collapsed": false,
     "input": [
      "p=Particula(2,3,4)\n",
      "typeof(p)"
     ],
     "language": "python",
     "metadata": {},
     "outputs": [
      {
       "metadata": {},
       "output_type": "pyout",
       "prompt_number": 5,
       "text": [
        "Particula (constructor with 1 method)"
       ]
      }
     ],
     "prompt_number": 5
    },
    {
     "cell_type": "code",
     "collapsed": false,
     "input": [
      "p.mass\n",
      "p.vel=12.5\n",
      "names(p)\n",
      "\n"
     ],
     "language": "python",
     "metadata": {},
     "outputs": [
      {
       "metadata": {},
       "output_type": "pyout",
       "prompt_number": 7,
       "text": [
        "3-element Array{Symbol,1}:\n",
        " :pos \n",
        " :vel \n",
        " :mass"
       ]
      }
     ],
     "prompt_number": 7
    },
    {
     "cell_type": "markdown",
     "metadata": {},
     "source": [
      "[4] \u00bfC\u00f3mo podemos definir una funci\u00f3n `mover` que mueve la part\u00edcula en un paso de tiempo $\\delta t$? [Pista: Para especificar que un objeto `t` es de tipo `MiTipo`, usamos la sintaxis `t::MiTipo`.]"
     ]
    },
    {
     "cell_type": "code",
     "collapsed": false,
     "input": [
      "p=Particula(2,3,4)\n",
      "function mover(part,dt)\n",
      "    x=part.pos\n",
      "    part.pos=x+part.vel*dt\n",
      "    part\n",
      "end\n",
      "\n",
      "println(p.pos)\n",
      "println(p.vel)\n",
      "println(p.mass)\n",
      "\n",
      "mover(p,7) \n",
      "println()\n",
      "\n",
      "println(p.pos)\n",
      "println(p.vel)\n",
      "println(p.mass)"
     ],
     "language": "python",
     "metadata": {},
     "outputs": [
      {
       "output_type": "stream",
       "stream": "stdout",
       "text": [
        "2\n"
       ]
      },
      {
       "output_type": "stream",
       "stream": "stdout",
       "text": [
        "3\n",
        "4\n",
        "\n",
        "23\n",
        "3\n",
        "4\n"
       ]
      }
     ],
     "prompt_number": 63
    },
    {
     "cell_type": "markdown",
     "metadata": {},
     "source": [
      "[5] Define un objeto `Gas` que representa $N$ part\u00edculas, as\u00ed como una funci\u00f3n `mover` que mueve el gas."
     ]
    },
    {
     "cell_type": "code",
     "collapsed": false,
     "input": [
      "y=Array(Particula,6)\n",
      "\n",
      "y[1]=Particula(1,2,3)\n",
      "y[2]=Particula(4,5,6)\n",
      "y[3]=Particula(7,8,9)\n",
      "y[4]=Particula(10,11,12)\n",
      "y[5]=Particula(13,14,15)\n",
      "y[6]=Particula(16,17,18)"
     ],
     "language": "python",
     "metadata": {},
     "outputs": [
      {
       "metadata": {},
       "output_type": "pyout",
       "prompt_number": 98,
       "text": [
        "Particula(16,17,18)"
       ]
      }
     ],
     "prompt_number": 98
    },
    {
     "cell_type": "code",
     "collapsed": false,
     "input": [
      "function Gas(N)\n",
      "    G=Array(Particula,N)\n",
      "    for i=1:N\n",
      "        G[i]=Particula(rand(0:10),rand(0:10),rand(0:10))\n",
      "    end\n",
      "    G\n",
      "end\n",
      "\n",
      "\n",
      "z=Gas(3)\n",
      "\n",
      "\n"
     ],
     "language": "python",
     "metadata": {},
     "outputs": [
      {
       "metadata": {},
       "output_type": "pyout",
       "prompt_number": 85,
       "text": [
        "3-element Array{Particula,1}:\n",
        " Particula(5,5,6) \n",
        " Particula(9,6,0) \n",
        " Particula(1,0,10)"
       ]
      }
     ],
     "prompt_number": 85
    },
    {
     "cell_type": "code",
     "collapsed": false,
     "input": [
      "function moveGas(Ens,t)\n",
      "    for i=1:length(Ens)\n",
      "        mover(Ens[i],t)\n",
      "    end\n",
      "    Ens\n",
      "end\n"
     ],
     "language": "python",
     "metadata": {},
     "outputs": [
      {
       "metadata": {},
       "output_type": "pyout",
       "prompt_number": 75,
       "text": [
        "moveGas (generic function with 2 methods)"
       ]
      }
     ],
     "prompt_number": 75
    },
    {
     "cell_type": "code",
     "collapsed": false,
     "input": [
      "l=moveGas(z,1)"
     ],
     "language": "python",
     "metadata": {},
     "outputs": [
      {
       "metadata": {},
       "output_type": "pyout",
       "prompt_number": 86,
       "text": [
        "3-element Array{Particula,1}:\n",
        " Particula(10,5,6)\n",
        " Particula(15,6,0)\n",
        " Particula(1,0,10)"
       ]
      }
     ],
     "prompt_number": 86
    },
    {
     "cell_type": "markdown",
     "metadata": {},
     "source": [
      "[6] Considera una estructura compuesta que denotaremos\n",
      "${\\overline v} = (f_v, d_v)$, que consta de dos campos `f_v` y `d_v`, que son flotantes. Esta estructura est\u00e1 definida de tal manera que se cumplen las siguientes propiedades:\n",
      "\n",
      "\\begin{align}\n",
      "{\\overline c} &= (c,0), &\\textrm{ para toda constante $c$},\\\\\n",
      "{\\overline x} &= (x_0,1), &\\textrm{para toda variable independiente $x = x_0$},\\\\\n",
      "{\\overline v} \\pm {\\overline w} & =  (f_v \\pm f_w, d_v \\pm d_w),\\\\\n",
      "{\\overline v} \\cdot {\\overline w} & =  (f_v \\cdot f_w, f_v \\cdot d_w + d_v \\cdot f_w),\\\\\n",
      "\\frac{{\\overline v}}{{\\overline w}} & =  \n",
      "\\left( \\frac{f_v}{f_w}, \\frac{d_v \\cdot f_w - f_v \\cdot d_w}{f_w^2} \\right),\\\\\n",
      "{\\overline u}^\\alpha &= (f_u^\\alpha, \\alpha f_u^{\\alpha-1} d_u), &\\textrm{donde $\\alpha$ \n",
      "es un n\u00famero real}.\n",
      "\\end{align}\n",
      "\n",
      "\n",
      "i. Implementa esto usando Julia.\n",
      "\n",
      "ii. Define un polinomio $p(x)$ cuya variable independiente es $x$. Eval\u00faa el polinomio en ${\\overline x}$ (variable independiente $x$), en $x_0=0$. \u00bfQu\u00e9 interpretaci\u00f3n tiene *el valor* obtenido para $d_x$? Y si en lugar de un polinomio utilizas un cociente de polinomios $r({\\overline x}) = p({\\overline x}) / q({\\overline x})$?\n",
      "\n",
      "iii. Pensando en la interpretaci\u00f3n que le diste a $d_x$, c\u00f3mo definir\u00edas la acci\u00f3n sobre ${\\overline x}$ de las siguientes funciones:\n",
      "- $\\exp(\\,{\\overline x}\\,)$\n",
      "- $\\log(\\,{\\overline x}\\,)$\n",
      "- $\\sin(\\,{\\overline x}\\,)$\n",
      "- $\\cos(\\,{\\overline x}\\,)$\n",
      "- $\\tan(\\,{\\overline x}\\,)$\n",
      "\n",
      "iv. \u00bfC\u00f3mo podemos definir las cosas en Julia de tal manera que ${\\overline v} + c$, y las dem\u00e1s posibles operaciones\n",
      "entre una variable comp\u00f3sita y un flotante $c$, tengan sentido?\n"
     ]
    },
    {
     "cell_type": "code",
     "collapsed": false,
     "input": [
      "type upbar\n",
      "    f\n",
      "    d\n",
      "end\n",
      "names(upbar)\n",
      "a1=upbar(1,2)\n",
      "a2=upbar(3,4)"
     ],
     "language": "python",
     "metadata": {},
     "outputs": [
      {
       "metadata": {},
       "output_type": "pyout",
       "prompt_number": 11,
       "text": [
        "upbar(3,4)"
       ]
      }
     ],
     "prompt_number": 11
    },
    {
     "cell_type": "code",
     "collapsed": false,
     "input": [
      "function polinomio1(x)\n",
      "16*(x^4)-48*(x^2)+x+12\n",
      "end\n",
      "function polinomio2(x)\n",
      "4*(x^2)+x-2\n",
      "end\n",
      "function derivada(func,x)\n",
      "    (func(x+(2.0^(-20)))-func(x))/(2.0^(-20))\n",
      "end\n",
      "\n",
      "println(polinomio1(0))\n",
      "println(derivada(polinomio1,0))\n",
      "println(polinomio2(0))\n",
      "println(derivada(polinomio2,0))"
     ],
     "language": "python",
     "metadata": {},
     "outputs": [
      {
       "output_type": "stream",
       "stream": "stdout",
       "text": [
        "12\n"
       ]
      },
      {
       "output_type": "stream",
       "stream": "stdout",
       "text": [
        "0.9999542236328125\n",
        "-2\n",
        "1.0000038146972656\n"
       ]
      }
     ],
     "prompt_number": 13
    },
    {
     "cell_type": "code",
     "collapsed": false,
     "input": [
      "function addbar(v,w)\n",
      "    res=upbar(Any,Any)\n",
      "    res.f=v.f+w.f\n",
      "    res.d=v.d+w.d\n",
      "    res\n",
      "end\n",
      "function minusbar(v,w)\n",
      "    res=upbar(Any,Any)\n",
      "    res.f=v.f-w.f\n",
      "    res.d=v.d-w.d\n",
      "    res\n",
      "end\n",
      "function dotbar(v,w)\n",
      "    res=upbar(Any,Any)\n",
      "    res.f=v.f*w.f\n",
      "    res.d=(v.f*w.d)+(v.d*w.f)\n",
      "    res\n",
      "end\n",
      "function divbar(v,w)\n",
      "    res=upbar(Any,Any)\n",
      "    res.f=v.f/w.f\n",
      "    res.d=(v.d*w.f-v.f*w.d)/((w.f)^2)\n",
      "    res \n",
      "end\n",
      "function potbar(u,a)\n",
      "    res=upbar(Any,Any)\n",
      "    res.f=u.f^a\n",
      "    res.d=a*((u.f)^(a-1))*u.d\n",
      "    res\n",
      "end\n",
      "divbar(a1,a2)"
     ],
     "language": "python",
     "metadata": {},
     "outputs": [
      {
       "metadata": {},
       "output_type": "pyout",
       "prompt_number": 3,
       "text": [
        "upbar(0.3333333333333333,0.2222222222222222)"
       ]
      }
     ],
     "prompt_number": 3
    },
    {
     "cell_type": "code",
     "collapsed": false,
     "input": [
      "\n",
      "P(x)=addbar(addbar(minusbar(dotbar(upbar(16,0),potbar(upbar(x,1),4)),dotbar(upbar(48,0),potbar(upbar(x,1),2))),upbar(12,0)),upbar(x,1))\n",
      "Q(x)=addbar(minusbar(dotbar(potbar(upbar(x,1),2),upbar(4,0)),upbar(2,0)),upbar(x,1))\n",
      "R(x)=divbar(P(x),Q(x))\n",
      "println(P(0))\n",
      "println(Q(0))\n",
      "println(R(0))"
     ],
     "language": "python",
     "metadata": {},
     "outputs": [
      {
       "output_type": "stream",
       "stream": "stdout",
       "text": [
        "upbar("
       ]
      },
      {
       "output_type": "stream",
       "stream": "stdout",
       "text": [
        "12,1)\n",
        "upbar(-2,1)\n",
        "upbar(-6.0,-3.5)\n"
       ]
      }
     ],
     "prompt_number": 16
    },
    {
     "cell_type": "markdown",
     "metadata": {},
     "source": [
      "fx es el valor de la funcion evaluada en x, mientras que dx es el valor de la derivada de la funcion evaluada en x. La construccion funciona de igual manera para un cociente de polinomios. Para las funciones exp,log,sin,cos y tan. Al evaluar en upbar(x,1) nos daria el valor de cada una de esas funciones y su derivada en x. Las podemos definir por su serie de potencias de la siguiente manera:"
     ]
    },
    {
     "cell_type": "code",
     "collapsed": false,
     "input": [
      "function factorial(n)\n",
      "    p=1\n",
      "    for i=1:n\n",
      "        p=p*i\n",
      "    end\n",
      "    p\n",
      "end\n",
      "\n",
      "function Expbar(x)\n",
      "    b=upbar(x,1.0)\n",
      "    s=upbar(1.0,0.0)\n",
      "    for i=1:10\n",
      "        l=divbar(potbar(b,i),upbar(factorial(i),0.0))\n",
      "        s=addbar(l,s)   \n",
      "    end\n",
      "    s\n",
      "end\n",
      "\n",
      "function Logbar(x)\n",
      "    y=(x-1.0)\n",
      "    b=upbar(y,1.0)\n",
      "    s=upbar(0.0,0.0)\n",
      "    for i=1:20\n",
      "        t=(-1.0)^(i+1)\n",
      "        l=divbar(potbar(b,i),upbar(i*(t),0.0))\n",
      "        s=addbar(l,s)   \n",
      "    end\n",
      "    s\n",
      "end\n",
      "\n",
      "function Sinbar(x)\n",
      "    \n",
      "    b=upbar(x,1.0)\n",
      "    s=upbar(0.0,0.0)\n",
      "    for i=0:10\n",
      "        t=(-1.0)^(i)\n",
      "        l=divbar(potbar(b,(2*i)+1),upbar(factorial((2*i)+1)*(t),0.0))\n",
      "        s=addbar(l,s)   \n",
      "    end\n",
      "    s\n",
      "end\n",
      "\n",
      "function Cosbar(x)\n",
      "    \n",
      "    b=upbar(x,1.0)\n",
      "    s=upbar(1.0,0.0)\n",
      "    for i=1:10\n",
      "        t=(-1.0)^(i)\n",
      "        l=divbar(potbar(b,2*i),upbar(factorial(2*i)*(t),0.0))\n",
      "        s=addbar(l,s)   \n",
      "    end\n",
      "    s\n",
      "end\n",
      "\n",
      "function Tanbar(x)\n",
      "    s=divbar(Sinbar(x),Cosbar(x))\n",
      "end\n",
      "Tanbar(3.14159265/4)"
     ],
     "language": "python",
     "metadata": {},
     "outputs": [
      {
       "metadata": {},
       "output_type": "pyout",
       "prompt_number": 50,
       "text": [
        "upbar(0.9999999982051034,1.9999999964102069)"
       ]
      }
     ],
     "prompt_number": 50
    },
    {
     "cell_type": "code",
     "collapsed": false,
     "input": [
      "methods(+)\n",
      "function +(u::upbar,v::upbar)\n",
      "    addbar(u,v)\n",
      "end\n",
      "function +(u::upbar,v::Float64)\n",
      "    addbar(u,upbar(v,0))\n",
      "end   "
     ],
     "language": "python",
     "metadata": {},
     "outputs": [
      {
       "metadata": {},
       "output_type": "pyout",
       "prompt_number": 13,
       "text": [
        "+ (generic function with 119 methods)"
       ]
      }
     ],
     "prompt_number": 13
    },
    {
     "cell_type": "markdown",
     "metadata": {},
     "source": [
      "[7] En el resto del curso, trataremos con *aritm\u00e9tica de intervalos*. En este nuevo tipo de aritm\u00e9tica, ocupamos intervalos $[a,b]$ de la recta real, que es el conjunto \n",
      "\n",
      "$$[a, b] := \\{x : a \\le x \\le b \\}$$\n",
      "\n",
      "(i) Define un tipo composito para representar un intervalo de dos n\u00fameros reales.\n",
      "\n",
      "(ii) \u00bfC\u00f3mo podr\u00edamos tener operaciones sensatas sobre los intervalos? La idea b\u00e1sica es que el resultado de la operaci\u00f3n sobre dos intervalos contenga los valores posibles resultantes de operar con los miembros de los dos intervalos respectivos.\n",
      "\n",
      "(iii) Implementa estas operaciones, sin tomar en cuenta cuestiones de redondeo.\n",
      "\n",
      "(iv) \u00bfC\u00f3mo nos puede ayudar el redondeo? Implem\u00e9ntalo."
     ]
    },
    {
     "cell_type": "code",
     "collapsed": false,
     "input": [
      "type Interval\n",
      "    lowbound::Float64\n",
      "    upbound::Float64\n",
      "    x\n",
      "    \n",
      "end\n",
      "\n",
      "\n",
      "function ConstructInterval(a,b,dx)\n",
      "    obj=Interval(a,b,Any)\n",
      "    step=(obj.upbound-obj.lowbound)/dx\n",
      "    j=Array(Float64,dx+1)\n",
      "    for i=0:dx\n",
      "        j[i+1]=obj.lowbound+(step*i)\n",
      "    end\n",
      "    obj.x=j\n",
      "    \n",
      "    obj\n",
      "end\n",
      "\n",
      "pr=ConstructInterval(3.0,5.0,10)\n",
      "st=ConstructInterval(-1.0,1.0,10)\n",
      "\n",
      "function +(f::Interval,g::Interval)\n",
      "    a=length(f.x)\n",
      "    b=length(g.x)\n",
      "    size=(a*b)\n",
      "    k=1\n",
      "    h=Array(Float64,size)\n",
      "    for i=1:a\n",
      "        for j=1:b\n",
      "            \n",
      "            h[k]=(f.x[i])+(g.x[j])\n",
      "          k=k+1  \n",
      "        end\n",
      "    end\n",
      "    result=Interval(f.lowbound+g.lowbound,f.upbound+g.upbound,h)\n",
      "end\n",
      "\n",
      "function *(f::Interval,g::Interval)\n",
      "    a=length(f.x)\n",
      "    b=length(g.x)\n",
      "    size=(a*b)\n",
      "    k=1\n",
      "    h=Array(Float64,size)\n",
      "    for i=1:a\n",
      "        for j=1:b\n",
      "            \n",
      "            h[k]=(f.x[i])*(g.x[j])\n",
      "          k=k+1  \n",
      "        end\n",
      "    end\n",
      "    result=Interval(f.lowbound*g.lowbound,f.upbound*g.upbound,h)\n",
      "end\n",
      "\n",
      "pr+st\n",
      "pr*st"
     ],
     "language": "python",
     "metadata": {},
     "outputs": [
      {
       "metadata": {},
       "output_type": "pyout",
       "prompt_number": 17,
       "text": [
        "Interval(-3.0,5.0,[-3.0,-2.4,-1.8,-1.2,-0.6,0.0,0.6,1.2,1.8,2.4  \u2026  -4.0,-3.0,-2.0,-1.0,0.0,1.0,2.0,3.0,4.0,5.0])"
       ]
      }
     ],
     "prompt_number": 17
    },
    {
     "cell_type": "code",
     "collapsed": false,
     "input": [
      "type prueba\n",
      "    ab\n",
      "    yel::Array{Float64,1}\n",
      "    \n",
      "end\n",
      "names(prueba)\n",
      "y=[0.0,0.0,0.0,0.0,0.0,0.0,0.0,0.0,0.0,0.0]\n",
      "x1=prueba(2,y)\n",
      "for i=1:10\n",
      "    x1.yel[i]=i\n",
      "end\n",
      "x1.yel"
     ],
     "language": "python",
     "metadata": {},
     "outputs": [
      {
       "metadata": {},
       "output_type": "pyout",
       "prompt_number": 5,
       "text": [
        "2-element Array{Symbol,1}:\n",
        " :ab \n",
        " :yel"
       ]
      }
     ],
     "prompt_number": 5
    },
    {
     "cell_type": "code",
     "collapsed": false,
     "input": [],
     "language": "python",
     "metadata": {},
     "outputs": [
      {
       "metadata": {},
       "output_type": "pyout",
       "prompt_number": 6,
       "text": [
        "10-element Array{Float64,1}:\n",
        "  1.0\n",
        "  2.0\n",
        "  3.0\n",
        "  4.0\n",
        "  5.0\n",
        "  6.0\n",
        "  7.0\n",
        "  8.0\n",
        "  9.0\n",
        " 10.0"
       ]
      }
     ],
     "prompt_number": 6
    },
    {
     "cell_type": "code",
     "collapsed": false,
     "input": [],
     "language": "python",
     "metadata": {},
     "outputs": []
    }
   ],
   "metadata": {}
  }
 ]
}