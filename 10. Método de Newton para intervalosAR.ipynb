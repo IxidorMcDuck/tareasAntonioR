{
 "metadata": {
  "kernelspec": {
   "display_name": "Julia 0.3.7",
   "language": "julia",
   "name": "julia 0.3"
  },
  "language": "Julia",
  "language_info": {
   "name": "julia",
   "version": "0.3.7"
  },
  "name": "",
  "signature": "sha256:0ea2be21d819b8f0098cb869e8e25513a151fe5f3a2ad953570c2903623712ec"
 },
 "nbformat": 3,
 "nbformat_minor": 0,
 "worksheets": [
  {
   "cells": [
    {
     "cell_type": "heading",
     "level": 1,
     "metadata": {},
     "source": [
      "El m\u00e9todo de Newton para intervalos"
     ]
    },
    {
     "cell_type": "markdown",
     "metadata": {},
     "source": [
      "Igual que en la clase anterior, supondremos que $f(x)$ es una funci\u00f3n continuamente diferenciable y que existe un valor $x^*$ donde $f(x^*)=0$. Aqu\u00ed abordaremos c\u00f3mo encontrar las ra\u00edces a partir de alg\u00fan intervalo inicial $X$. Supondremos adem\u00e1s que existe una extensi\u00f3n del intervalo para $f'(x)$ y que \u00e9ste no contiene al cero: $0\\notin F'(X)$.\n",
      "\n",
      "La clave del m\u00e9todo de Newton para intervalos est\u00e1 en aplicar el teorema del valor promedio, que nos asegura que para cualquier $x\\in X$ se cumple que\n",
      "\n",
      "\\begin{equation}\n",
      "f(x) = f(x^*) + f'(\\xi) (x-x^*)\n",
      "\\end{equation}\n",
      "\n",
      "para alg\u00fana $\\xi$ entre $x$ y $x^*$. Aqu\u00ed, $\\xi$ es un valor desconocido, por lo que usamos que est\u00e1 en el intervalo inicial $X$. "
     ]
    },
    {
     "cell_type": "markdown",
     "metadata": {},
     "source": [
      "Entonces, obtenemos \n",
      "\n",
      "\\begin{equation}\n",
      "x^* = x - \\frac{f(x)}{f'(\\xi)} \\in x - \\frac{f(x)}{F'(X)} \\equiv N(X,x)\n",
      "\\end{equation}\n",
      "\n",
      "Si suponemos que $x^*\\in X$, entonces $x^* \\in N(X,x)\\cap X$ para toda $x\\in X$.\n",
      "\n",
      "La cerradura (enclosure) que corresponde a $m = {\\rm mid}(X)$, o sea, al punto medio del intervalo $X$ es lo que se llama el *operador de Newton*\n",
      "\n",
      "\\begin{equation}\n",
      "N(X)\\equiv N(X,m) = m - \\frac{f(m)}{F'(X)}\n",
      "\\end{equation}"
     ]
    },
    {
     "cell_type": "markdown",
     "metadata": {},
     "source": [
      "Podemos definir la sucesi\u00f3n de intervalos a partir de un intervalo inicial $X_0$ dada por $X_{k+1} = X_k \\cap N(X_k)$. Por construcci\u00f3n, si $x^*\\in X_0$ entonces $x^*\\in X_k$ para toda $k$. Entonces, si $X_0$ contiene a una ra\u00edz, la ra\u00edz se mantiene dentro de la secuencia de intervalos, que de hecho forman una secuencia anidada que converge a $x^*$. Entonces, si controlamos que de alguna manera el di\u00e1metro de los intervalos $x_k$ disminuya, obtendremos cotas precisas para $x^*$. Esto es el contenido del **Teorema del m\u00e9todo de Newton para intervalos**."
     ]
    },
    {
     "cell_type": "markdown",
     "metadata": {},
     "source": [
      "M\u00e1s a\u00fan, si $f(x)$ es doblemente continua y diferenciable y $N(X)$ est\u00e1 bien definida en el intervalo $X$, se puede demostrar que \n",
      "\n",
      "1. Si $N(X)\\cap X = \\emptyset$, es decir, $N(X)$ no contiene a $X$, entonces $X$ no contiene ninguna ra\u00edz de $f$.\n",
      "\n",
      "2. Si $N(X) \\subseteq X$, entonces $X$ contiene exactamente una ra\u00edz de $f$.\n",
      "\n"
     ]
    },
    {
     "cell_type": "markdown",
     "metadata": {},
     "source": [
      "[1] Escribe una funci\u00f3n que calcule el operador de Newton para un intervalo $X$, dadas $f(x)$ y $f'(x)$.\n",
      "\n",
      "[2] Implementa el m\u00e9todo de Newton para intervalos para encontrar las ra\u00edces de $f(x) = x^3 - 1$ a partir de $X=[-3,3]$. Muestra gr\u00e1ficamente la implementaci\u00f3n del m\u00e9todo. En cada iteraci\u00f3n subsecuente del m\u00e9todo, ilustra qu\u00e9 le pasa al di\u00e1metro de la refincaci\u00f3n del intervalo que vas obteniendo.\n"
     ]
    },
    {
     "cell_type": "code",
     "collapsed": false,
     "input": [
      "using IntervalosAR\n",
      "f(x)=(x^3)-1\n",
      "df(x)=3*(x^2)\n",
      "\n",
      "function intersection(A::Interval,B::Interval)\n",
      "    h=Array(BigFloat,4)\n",
      "    ord=Array(BigFloat,4)\n",
      "    inter=Array(BigFloat,2)\n",
      "\n",
      "    if A==B\n",
      "        return A\n",
      "    end\n",
      "    \n",
      "    h[1]=A.lowbound\n",
      "h[2]=A.upbound\n",
      "h[3]=B.lowbound\n",
      "h[4]=B.upbound\n",
      "    ord[1]=minimum(h)\n",
      "    ord[4]=maximum(h)\n",
      "    \n",
      "    \n",
      "    \n",
      "    j=1\n",
      "    for i=1:4\n",
      "        \n",
      "        if h[i]!= minimum(h) && h[i]!= maximum(h)\n",
      "            inter[j]=h[i]\n",
      "       j=j+1\n",
      "        end\n",
      "    end\n",
      "    \n",
      "    \n",
      "    if inter[1]<= inter[2]\n",
      "        ord[2]=inter[1]\n",
      "        ord[3]=inter[2]\n",
      "    else\n",
      "        ord[2]=inter[2]\n",
      "        ord[3]=inter[1]\n",
      "    end\n",
      "    \n",
      "    \n",
      "    if A.lowbound==ord[1]\n",
      "        \n",
      "        if A.upbound==ord[2]\n",
      "            return 0\n",
      "            else\n",
      "            return Interval(ord[2],ord[3])\n",
      "        end\n",
      "        \n",
      "        elseif A.lowbound==ord[2]\n",
      "        \n",
      "        return Interval(ord[2],ord[3])\n",
      "        \n",
      "        elseif A.lowbound==ord[3]\n",
      "        \n",
      "        return 0\n",
      "    end\n",
      "\n",
      "end\n",
      "\n",
      "function N(X,g,dg,x)\n",
      "x-(g(x)*(dg(X)^-1))\n",
      "end\n",
      "\n",
      "\n",
      "\n",
      "\n",
      "function NOperator(X,g,dg)\n",
      "m=(X.upbound+X.lowbound)/2\n",
      "N(X,g,dg,m)\n",
      "end\n",
      "\n",
      "\n",
      "function intervalRoot(X,g,dg)\n",
      "    if dg(X).upbound*dg(X).lowbound<0\n",
      "        X1=Interval(X.lowbound,-.0000000000000000000000000000000000001)\n",
      "        X2=Interval(0,X.upbound)\n",
      "    \n",
      "        \n",
      "        \n",
      "         if intersection(X1,NOperator(X1,g,dg))==0\n",
      "            println(\"no hay raiz en el intervalo negativo\")\n",
      "         else\n",
      "         Y=intersection(X1,NOperator(X1,g,dg))\n",
      "            \n",
      "         while Y !=0 && Y.upbound-Y.lowbound > .0000001   \n",
      "         Y=intersection(Y,NOperator(Y,g,dg))\n",
      "         end \n",
      "            if Y==0\n",
      "            println(\"no hay raiz en el intervalo negativo\")\n",
      "            else\n",
      "            println(Y)\n",
      "            end\n",
      "         end\n",
      "        \n",
      "        if intersection(X2,NOperator(X2,g,dg))==0\n",
      "            println(\"no hay raiz en el intervalo positivo\")\n",
      "        else\n",
      "        Y=intersection(X2,NOperator(X2,g,dg))\n",
      "    \n",
      "        while Y !=0 && Y.upbound-Y.lowbound > .0000001     \n",
      "      \n",
      "        Y=intersection(Y,NOperator(Y,g,dg))\n",
      "      \n",
      "        end    \n",
      "            if Y==0\n",
      "                println(\"no hay raiz en el intervalo positivo\")\n",
      "            else\n",
      "            println(Y)\n",
      "            end\n",
      "      \n",
      "        end\n",
      "        \n",
      "   else   \n",
      "    \n",
      "    if intersection(X,NOperator(X,g,dg))==0\n",
      "        println(\"no hay raiz en el intervalo\")\n",
      "    else\n",
      "      Y=intersection(X,NOperator(X,g,dg))\n",
      "    \n",
      "    while Y !=0 && Y.upbound-Y.lowbound > .0000001      \n",
      "      \n",
      "        Y=intersection(Y,NOperator(Y,g,dg))\n",
      "      \n",
      "    end    \n",
      "              if Y==0\n",
      "            println(\"no hay raiz en el intervalo negativo\")\n",
      "            else\n",
      "                return Y\n",
      "            end\n",
      "      \n",
      "    end\n",
      "    end\n",
      "    \n",
      "end\n",
      "\n",
      "\n",
      "intervalRoot(Interval(-3,3),f,df)"
     ],
     "language": "python",
     "metadata": {},
     "outputs": [
      {
       "metadata": {},
       "output_type": "pyout",
       "prompt_number": 1,
       "text": [
        "Interval(9.999999999996766945433800838764672234217058898840182419042737791180041684117481e-01 with 256 bits of precision,1.000000000000355607751918599526493498320319654239961155010974683817813719975857e+00 with 256 bits of precision)"
       ]
      }
     ],
     "prompt_number": 1
    },
    {
     "cell_type": "markdown",
     "metadata": {},
     "source": [
      "[3] Usando tu implementaci\u00f3n, *demuestra* que en el mismo intervalo $X=[-3,3]$ que $g(x) = x^2+1$ no tiene ninguna ra\u00edz. Ilustra gr\u00e1ficamente esto.\n",
      "\n",
      "Hint: En el caso en que $0\\in F'(x)$ las hip\u00f3tesis del teorema no se cumplen. En ese caso hay que dividir el intervalo (bisecci\u00f3n por ejemplo) y tratar de que las hip\u00f3tesis del teorema se cumplan, para poder aplicarlo. Extiende tus funciones para que incluyan esta situaci\u00f3n. En ese caso, cada subdivisi\u00f3n debe ser probada si puede o no tener una ra\u00edz."
     ]
    },
    {
     "cell_type": "code",
     "collapsed": false,
     "input": [
      "g(x)=(x^2)+1\n",
      "dg(x)=2*x\n",
      "intervalRoot(Interval(-3,3),g,dg)"
     ],
     "language": "python",
     "metadata": {},
     "outputs": [
      {
       "output_type": "stream",
       "stream": "stdout",
       "text": [
        "no hay raiz en el intervalo negativo\n"
       ]
      },
      {
       "output_type": "stream",
       "stream": "stdout",
       "text": [
        "no hay raiz en el intervalo positivo\n"
       ]
      }
     ],
     "prompt_number": 43
    },
    {
     "cell_type": "markdown",
     "metadata": {},
     "source": [
      "[4] Considera la familia de polinomios de Wilkinson definidos por $W_n(x) = \\prod_{i=1}^n(x-i)$. Partiendo de un intervalo sim\u00e9trico al rededor del cero, implementa el m\u00e9todo de Newton para encontrar sus ra\u00edces."
     ]
    },
    {
     "cell_type": "code",
     "collapsed": false,
     "input": [
      "function W(x,n)\n",
      "    p=1\n",
      "    for i=1:n\n",
      "        p=(x-i)*p\n",
      "    end\n",
      "    p\n",
      "end\n",
      "\n",
      "function dW(x,n)\n",
      "    p=0\n",
      "for j=1:n\n",
      "y=1\n",
      "    for i=1:n\n",
      "       if i != j        \n",
      "       y=(x-i)*y\n",
      "       end\n",
      "    end\n",
      "p=p+y\n",
      "end\n",
      "    p\n",
      "end\n",
      "\n",
      "h(x)=W(x,3)\n",
      "dh(x)=dW(x,3)\n",
      "\n",
      "intervalRoot(Interval(1.6,2.4),h,dh)"
     ],
     "language": "python",
     "metadata": {},
     "outputs": []
    },
    {
     "cell_type": "markdown",
     "metadata": {},
     "source": []
    }
   ],
   "metadata": {}
  }
 ]
}