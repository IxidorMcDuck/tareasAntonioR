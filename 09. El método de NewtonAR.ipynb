{
 "metadata": {
  "kernelspec": {
   "display_name": "Julia 0.3.8-pre",
   "language": "julia",
   "name": "julia 0.3"
  },
  "language": "Julia",
  "language_info": {
   "name": "julia",
   "version": "0.3.8"
  },
  "name": "",
  "signature": "sha256:4155f5011352cdaff24d0568bbe6fd7d5010921267d49289e85f200382c5197d"
 },
 "nbformat": 3,
 "nbformat_minor": 0,
 "worksheets": [
  {
   "cells": [
    {
     "cell_type": "heading",
     "level": 1,
     "metadata": {},
     "source": [
      "El m\u00e9todo de Newton"
     ]
    },
    {
     "cell_type": "markdown",
     "metadata": {},
     "source": [
      "Recordemos que el *m\u00e9todo de Newton* es un m\u00e9todo num\u00e9rico *iterativo* para encontrar ra\u00edces de funciones (continuamente) diferenciables.\n",
      "\n",
      "Sea $f$ la funci\u00f3n cuyas ra\u00edces queremos encontrar.\n",
      "La idea es que empecemos desde una adivinanza inicial $x_0$, y que la siguiente aproximaci\u00f3n $x_1$ est\u00e9 donde la recta tangente a la curva $f(x)$ en $x_0$ corte el eje $x$. \n",
      "\n",
      "[1] Esboza la geometr\u00eda, tanto a mano como en la computadora, y as\u00ed encuentra la expresi\u00f3n de $x_{n+1}$ en t\u00e9rminos de $x_n$.\n",
      "\n",
      "[2] Implementa la iteraci\u00f3n para calcular la ra\u00edz cuadrada y la ra\u00edz c\u00fabica de $2$.  \u00bfCu\u00e1l es una condici\u00f3n razonable de terminaci\u00f3n del algoritmo?\n",
      "\n",
      "[3] Haz un m\u00f3dulo para llevar a cabo diferenciaci\u00f3n autom\u00e1tica (usando el c\u00f3digo del notebook correspondiente) y util\u00edzalo para implementar el m\u00e9todo."
     ]
    },
    {
     "cell_type": "markdown",
     "metadata": {},
     "source": [
      "La pendiente de la recta en el punto xn => f'(xn)=(y(x)-f(xn))/(x-xn) <=> y(x)=f'(xn)x + (f(xn)-f'(xn)xn) es la ecuacion de la recta que pasa por el punto (xn,f(xn)) y tiene pendiente f'(xn). Entonces el punto xn+1 satisface la siguiente ecuacion:\n",
      "y(xn+1)=0=f'(xn)xn+1 + (f(xn)-f'(xn)xn) <=> xn+1=(f'(xn)xn-f(xn))/f'(xn)"
     ]
    },
    {
     "cell_type": "code",
     "collapsed": false,
     "input": [
      "(((11/6)^2)+2)/(11/3)\n",
      "sqrt(2)\n",
      "2^(1/3)"
     ],
     "language": "python",
     "metadata": {},
     "outputs": [
      {
       "metadata": {},
       "output_type": "pyout",
       "prompt_number": 5,
       "text": [
        "1.2599210498948732"
       ]
      }
     ],
     "prompt_number": 5
    },
    {
     "cell_type": "code",
     "collapsed": false,
     "input": [
      "function P(x)\n",
      "(upbar(x,1)^2)-2\n",
      "end\n",
      "function Q(x)\n",
      "(upbar(x,1)^3)-2\n",
      "end\n",
      "function NewtonRoot(fun,xo)\n",
      "    i=1\n",
      "    L=fun(xo)\n",
      "    x=xo\n",
      "    while abs(L.f)>.00000001 && abs(L.f)<100 && i<200\n",
      "        L=fun(x)\n",
      "        x=((L.d*x)-L.f)/(L.d)\n",
      "        i=i+1\n",
      "    end\n",
      "    if abs(L.f)>100 \n",
      "        println(\"La busqueda fall\u00f3\")\n",
      "    elseif i>200\n",
      "         println(\"La busqueda fall\u00f3\")\n",
      "    else\n",
      "        return x\n",
      "    end\n",
      "end\n",
      "\n",
      "function NewtonRootGraphic(fun,xo)\n",
      "    i=1\n",
      "    L=fun(xo)\n",
      "    x=xo\n",
      "    while abs(L.f)>.00000001 && abs(L.f)<100 && i<200\n",
      "        L=fun(x)\n",
      "        x=((L.d*x)-L.f)/(L.d)\n",
      "        i=i+1\n",
      "    end\n",
      "    if abs(L.f)>100 \n",
      "        return 0\n",
      "    elseif i>200\n",
      "         return 0\n",
      "    else\n",
      "        return 1\n",
      "    end\n",
      "end\n",
      "\n",
      "NewtonRoot(P,3)"
     ],
     "language": "python",
     "metadata": {},
     "outputs": [
      {
       "metadata": {},
       "output_type": "pyout",
       "prompt_number": 2,
       "text": [
        "1.4142135623730951"
       ]
      }
     ],
     "prompt_number": 2
    },
    {
     "cell_type": "code",
     "collapsed": false,
     "input": [
      "using diferenciacion"
     ],
     "language": "python",
     "metadata": {},
     "outputs": [],
     "prompt_number": 1
    },
    {
     "cell_type": "markdown",
     "metadata": {},
     "source": [
      "El m\u00e9todo de Newton **puede fallar**:"
     ]
    },
    {
     "cell_type": "markdown",
     "metadata": {},
     "source": [
      "[4] Utiliza el mismo m\u00e9todo para la funci\u00f3n *compleja* $f(z) = z^3 - 1$. Empezando desde distintos n\u00fameros complejos $a + bi$, itera el algoritmo para ver a cu\u00e1l ra\u00edz converge, y colorea el punto inicial de manera correspondiente. [Para esto, se recomienda construir una matriz y utilizar la funci\u00f3n `pcolor` de `PyPlot`.]\n",
      "\n",
      "Interpreta el resultado."
     ]
    },
    {
     "cell_type": "code",
     "collapsed": false,
     "input": [
      "R(z)=(upbar(z,1)^3)-1\n",
      "R(complex(1,1))\n",
      "NewtonRootGraphic(R,complex(1,1))\n"
     ],
     "language": "python",
     "metadata": {},
     "outputs": [
      {
       "metadata": {},
       "output_type": "pyout",
       "prompt_number": 3,
       "text": [
        "1"
       ]
      }
     ],
     "prompt_number": 3
    },
    {
     "cell_type": "code",
     "collapsed": false,
     "input": [
      "using PyPlot\n",
      "lx=300\n",
      "ly=300\n",
      "C=fill(0,(lx+1,ly+1))\n",
      "for i=-lx/2:lx/2\n",
      "for j=-ly/2:ly/2\n",
      "C[i+(lx/2)+1,j+(ly/2)+1]=NewtonRootGraphic(R,complex((10*i)/lx,(10*j)/ly))\n",
      "end\n",
      "end\n",
      "pcolor(C)"
     ],
     "language": "python",
     "metadata": {},
     "outputs": [
      {
       "metadata": {},
       "output_type": "display_data",
       "png": "[encoded data removed]",
       "text": [
        "Figure(PyObject <matplotlib.figure.Figure object at 0x7fcc06342050>)"
       ]
      },
      {
       "metadata": {},
       "output_type": "pyout",
       "prompt_number": 5,
       "text": [
        "PyObject <matplotlib.collections.PolyCollection object at 0x7fcbe1978e50>"
       ]
      }
     ],
     "prompt_number": 5
    },
    {
     "cell_type": "heading",
     "level": 2,
     "metadata": {},
     "source": [
      "Dimensi\u00f3n superior"
     ]
    },
    {
     "cell_type": "markdown",
     "metadata": {},
     "source": [
      "[5] Desarrolla e implementa el m\u00e9todo de Newton para funciones $\\mathbf{f}: \\mathbb{R}^n \\to \\mathbb{R}^n$. Para hacerlo, toma una adivinaza $\\mathbf{x}_n$ y resuelve la ecuaci\u00f3n $\\mathbf{f}(\\mathbf{x}_{n+1}) = \\mathbf{0}$, con $\\mathbf{x}_{n+1} = \\mathbf{x}_n + \\delta \\mathbf{x}_n$."
     ]
    },
    {
     "cell_type": "markdown",
     "metadata": {},
     "source": [
      "[6] Utiliza tu algoritmo para calcular ra\u00edces de funciones conocidas multidimensionales."
     ]
    }
   ],
   "metadata": {}
  }
 ]
}