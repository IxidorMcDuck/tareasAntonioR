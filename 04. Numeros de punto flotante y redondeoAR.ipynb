{
 "metadata": {
  "language": "Julia",
  "name": "",
  "signature": "sha256:2d0141b7e0458d8d77accb2d357aebdbc63c998fc2d2791587eefbf7bcd9deeb"
 },
 "nbformat": 3,
 "nbformat_minor": 0,
 "worksheets": [
  {
   "cells": [
    {
     "cell_type": "markdown",
     "metadata": {},
     "source": [
      "# 04. N\u00fameros de punto flotante y redondeo"
     ]
    },
    {
     "cell_type": "markdown",
     "metadata": {},
     "source": [
      "### 1. N\u00fameros de punto flotante y la normal IEEE 744"
     ]
    },
    {
     "cell_type": "markdown",
     "metadata": {},
     "source": [
      "Los n\u00fameros de punto flotante son n\u00fameros reales que tienen la forma:\n",
      "\n",
      "\\begin{equation}\n",
      "x = (-1)^\\sigma m \\times \\beta^e,\n",
      "\\end{equation}\n",
      "donde $\\beta\\geq 2$ es un entero mayor que define la *base*, $m = (b_0.b_1\\, b_2\\, b_3\\dots)_\\beta$ es la *mantisa* o *significante* escrita en la base $\\beta$, donde $b_i = {0, 1, \\dots, \\beta-1}$, y $\\sigma$ sirve para definir el signo. Finalmente, $e$, el exponente, es un n\u00famero entero. Para evitar *las colas infinitas de nueves*, que en binario son las de unos, uno adem\u00e1s pide que $0\\leq \\beta_i \\leq \\beta-2$ para un n\u00famero infinito de $i$'s.\n",
      "\n",
      "Este conjunto es *no numerable*, como los reales. Esta representaci\u00f3n *no es \u00fanica*.\n",
      "\n",
      "Llevar los reales a la computadora obviamente involucra hacer dos concesiones:  en primer lugar, uno debe considerar conjuntos *finitos* de n\u00fameros como modelo de los reales, y en segundo t\u00e9rmino, que la representaci\u00f3n sea *\u00fanica*.\n",
      "\n",
      "En particular, pedimos que el primer d\u00edgito $b_0$ no sea cero para todo $x$ distinto de cero; los n\u00fameros de punto flotante que satisfacen esta condici\u00f3n se llaman *normales* o *normalizados*."
     ]
    },
    {
     "cell_type": "markdown",
     "metadata": {},
     "source": [
      "Hacer que el n\u00famero de *bits* (o sea, la base es $\\beta=2$) sea finito no es suficiente considerar\n",
      "que la mantisa consista de un n\u00famero finito de entradas, sino adem\u00e1s que el rango de $e$ sea *finito*. Esto es:\n",
      "\n",
      "\\begin{eqnarray}\n",
      "m & = & (b_0.b_1\\,b_2\\,\\dots b_p),\\\\\n",
      "e & \\in & [ e_{min}, e_{max} ].\\\\\n",
      "\\end{eqnarray}\n",
      "\n",
      "Aqu\u00ed, $p$ se conoce como el n\u00famero de *d\u00edgitos significativos* (*precision* en ingl\u00e9s), que **no** hay que confundir con la precisi\u00f3n (*accuracy*).\n",
      "\n",
      "En el caso de la representaci\u00f3n binaria, dado que $b_0=1$, entonces uno *puede* obviar esto, lo que significa que el bit $b_0$ **no** se guarda. A esta convenci\u00f3n se le llama la *regla del bit escondido* (*hidden bit rule*). "
     ]
    },
    {
     "cell_type": "markdown",
     "metadata": {},
     "source": [
      "-----\n",
      "\n",
      "**Ejercicio 1** \n",
      "\n",
      "Dados $p$, $e_{min}$ y $e_{max}$, usando el sistema binario, \u00bfde cu\u00e1ntos n\u00fameros *normales* consiste el conjunto? \u00bfY si se trata de otra base $\\beta$? \u00bfEst\u00e1n uniformemente distribuidos los n\u00fameros normales? \u00bfCu\u00e1l es la distancia entre el 0 y el primer n\u00famero positivo distinto de cero?\n",
      "*NOTA* Para guiar la respuesta, uno puede jugar con $\\beta=2$, $p=2$,  $e_{min} = -1$ y $e_{max} = 2$, pero la idea es obtener expresiones generales.\n",
      "\n",
      "(Entre par\u00e9ntesis, a estas alturas del partido deben haber escrito funciones que permiten pasar de un entero a una cadena binaria equivalente, y viceversa, y de un n\u00famero de punto flotante en base 10 al equivalente en binario, y viceversa. No s\u00f3lo se trata de que estas funciones est\u00e9n escritas, sino de que nos sean *\u00fatiles*, o sea, de que den resultados que podemos confiar y usar.)\n"
     ]
    },
    {
     "cell_type": "code",
     "collapsed": false,
     "input": [
      "function base2dec(s,base)\n",
      "x=\"$s\"\n",
      "decimal=0\n",
      "partition=0\n",
      "mark=0\n",
      "for j=1:sizeof(x)\n",
      "    if x[j]=='.'\n",
      "        partition=sizeof(x)-j\n",
      "        mark=j\n",
      "    end\n",
      "end\n",
      "\n",
      "for i=1:(mark-1)\n",
      "    g=(convert(Float64,x[i])-48)\n",
      "        decimal=decimal+(g*(base^(sizeof(x)-partition-1-i)))\n",
      "    \n",
      "end\n",
      "\n",
      "for i=(mark+1):sizeof(x)\n",
      "     g=(convert(Float64,x[i])-48)\n",
      "\n",
      "    \n",
      "        decimal=decimal+(g*(base^(sizeof(x)-partition-i)))\n",
      "    \n",
      "     \n",
      "end\n",
      "\n",
      "decimal\n",
      "\n",
      "end\n",
      "\n",
      "\n",
      "\n",
      "function tobase(l,base,d)\n",
      "\n",
      "\n",
      "\n",
      "bina=zeros(Int,d)\n",
      "j=1\n",
      "while l>=1\n",
      "digit=l%base\n",
      "    bina[j]=digit\n",
      "         l=(l-digit)\n",
      "       \n",
      "       l=l/base\n",
      "    j=j+1\n",
      "    end\n",
      "bina=reverse(bina)\n",
      "num=0\n",
      "str=\"\"\n",
      "for j=1:d\n",
      "u=bina[j]\n",
      "str= str*\"$u\"\n",
      "num=num+u*10.0^(d-j)\n",
      "end\n",
      "\n",
      "num\n",
      "end\n",
      "  \n",
      "\n",
      "emin=-1\n",
      "emax=2\n",
      "p=2\n",
      "base=2.0\n",
      "for j=emin:emax\n",
      "for i=0:(base^p-1)\n",
      "f=tobase(i,base,p)*10.0^j\n",
      "println(f,\"     \",base2dec(f,base))\n",
      "end\n",
      "end\n"
     ],
     "language": "python",
     "metadata": {},
     "outputs": [
      {
       "ename": "LoadError",
       "evalue": "invalid redefinition of constant f\nwhile loading In[34], in expression starting on line 65",
       "output_type": "pyerr",
       "traceback": [
        "invalid redefinition of constant f\nwhile loading In[34], in expression starting on line 65",
        "",
        " in anonymous at no file:67"
       ]
      }
     ],
     "prompt_number": 34
    },
    {
     "cell_type": "code",
     "collapsed": false,
     "input": [
      "Dados p, emin, emax, beta y sigma, el numero de combinaciones para numeros flotantes es: 2*(emax-emin+1)*(beta)^(p+1) \n",
      "y para numeros normales donde descartamos la posibilidad de que la primera entrada sea cero:2*(emax-emin+1)*(beta-1)*(beta)^p\n",
      "En el ejemplo, los numeros normales son: 1,1.5,2,3,4,6,8 y 12 asi que en general no estan uniformemente distribuidos. \n",
      "La distancia entre el cero y el primer numero positivo 0.1 es de .5, la distancia entre el cero y el primer numero normal positivo 1.0 \n",
      "es de 1. Entonces en general, la distancia entre el cero y el primer numero subnormal positivo, es: (beta)^emin y la distancia entre el cero \n",
      "y el primer numero normal es: (beta)^(p+emin)"
     ],
     "language": "python",
     "metadata": {},
     "outputs": []
    },
    {
     "cell_type": "markdown",
     "metadata": {},
     "source": [
      "---\n",
      "\n",
      "**Ejercicio 2** \n",
      "\n",
      "\u00bfC\u00f3mo se representa al $x=0$ en el conjunto anterior? \u00bfFunciona la regla del bit escondido para una base $\\beta>3$?"
     ]
    },
    {
     "cell_type": "code",
     "collapsed": false,
     "input": [
      "Se le representa como 00*2^-1, 00*2^0,00*2^1, 00*2^2 y la regla del bit escondido no funciona para una base mayor o igual a 3, \n",
      "ya que las opciones de digitos son mas que solo cero o uno y por tanto no se puede inferir. "
     ],
     "language": "python",
     "metadata": {},
     "outputs": [
      {
       "ename": "LoadError",
       "evalue": "syntax: extra token \"le\" after end of expression\nwhile loading In[2], in expression starting on line 1",
       "output_type": "pyerr",
       "traceback": [
        "syntax: extra token \"le\" after end of expression\nwhile loading In[2], in expression starting on line 1",
        ""
       ]
      }
     ],
     "prompt_number": 2
    },
    {
     "cell_type": "code",
     "collapsed": false,
     "input": [
      "using Interact\n",
      "\n",
      "x=12.13\n",
      "s=html(\"$x\")\n",
      "methods(convert)\n",
      "convert(Float64,'5')-48"
     ],
     "language": "python",
     "metadata": {},
     "outputs": [
      {
       "metadata": {},
       "output_type": "pyout",
       "prompt_number": 10,
       "text": [
        "5.0"
       ]
      }
     ],
     "prompt_number": 10
    },
    {
     "cell_type": "markdown",
     "metadata": {},
     "source": [
      "Del ejercicio 1 arriba, uno se da cuenta de que hay una distancia an\u00f3malamente grande entre 0 y el primer n\u00famero positivo. Esto trae problemas pr\u00e1cticos relacionados con la p\u00e9rdida de precisi\u00f3n cuando se tienen cantidades cercanas a cero. La manera de evitar esto es permitir que haya ciertos n\u00fameros que no son normales; a \u00e9stos se les llama *subnormales*. Un n\u00famero distinto de cero es subnormal si $b_0=0$. Esto permite llegar a cero de manera gradual al incorporar estos n\u00fameros al conjunto de n\u00fameros representables.\n"
     ]
    },
    {
     "cell_type": "markdown",
     "metadata": {},
     "source": [
      "---\n",
      "\n",
      "**Ejercicio 3**\n",
      "\n",
      "En el ejemplo de juguete anterior ($\\beta=2$, $p=2$,  $e_{min} = -1$ y $e_{max} = 2$) enumera los posibles n\u00fameros subnormales. \u00bfC\u00f3mo cambia la distancia de 0 al n\u00famero positivo m\u00e1s pr\u00f3ximo? \u00bfEl espaciamiento entre los n\u00fameros subnormales, es uniforme?\n"
     ]
    },
    {
     "cell_type": "code",
     "collapsed": false,
     "input": [
      "en el ejemplo, los numeros subnormales posibles son:0,0,0,0,.5,1,2,4. La distancia del cero al numero subnormal positivo mas proximo es .5\n",
      "El espaciamiento entre numeros subnormales no es uniforme."
     ],
     "language": "python",
     "metadata": {},
     "outputs": []
    },
    {
     "cell_type": "markdown",
     "metadata": {},
     "source": [
      "---\n",
      "\n",
      "**Ejercicio 4**\n",
      "\n",
      "\u00bfQu\u00e9 expresiones definen a $N_{min}$ y $N_{max}$, los n\u00fameros de punto flotante (positivos) m\u00ednimo y m\u00e1ximo? Obt\u00e9n los resultados para los n\u00fameros normales y los subnormales."
     ]
    },
    {
     "cell_type": "code",
     "collapsed": false,
     "input": [
      "Normales: Nmax=(beta-1,beta-1,...,beta-1)*(beta)^emax, Nmin=(1,0,0,...,0)*(beta)^emin\n",
      "Subnormales: Nmax=(0,beta-1,beta-1,...,beta-1)*(beta)^emax, Nmin=(0,0,...,0,1)*(beta)^emin"
     ],
     "language": "python",
     "metadata": {},
     "outputs": []
    },
    {
     "cell_type": "markdown",
     "metadata": {},
     "source": [
      "La norma [IEEE 754](http://en.wikipedia.org/wiki/IEEE_floating_point) define el est\u00e1ndar de la representaci\u00f3n de los n\u00fameros de punto flotante en las computadoras. En particular, aqu\u00ed nos interesar\u00e1 la representaci\u00f3n *en doble precisi\u00f3n* o de 64-bits, que consiste en el primer bit que contiene el signo $\\sigma$, de un exponente $e$ de 11-bits que tiene un *sesgo* (*bias*) $B_*$ y de la mantisa que consta de $p=52$ bits (de facto, $p=53$, si se incluye la regla del bit escondido). El resultado claramente son los 64 bits de almacenamiento.\n",
      "\n",
      "El sesgo se introduce por la siguiente raz\u00f3n. Sin sesgo, el exponente $e$ var\u00eda entre 0 y $2^{E_*} - 1$, donde $E_*$ son el n\u00famero de bits asignados al exponente. Entonces, el sesgo se introduce *restando* $B_* = 2^{E_*-1} - 1$ del exponente, lo que de facto hace que el rango del exponente sea $e \\in [-2^{E_*-1} + 1, 2^{E_*-1}]$.\n",
      "\n"
     ]
    },
    {
     "cell_type": "markdown",
     "metadata": {},
     "source": [
      "---\n",
      "\n",
      "**Ejercicio 5**\n",
      "\n",
      "Usando `bits` y un poco de imaginaci\u00f3n, cu\u00e1les son las reglas para representar\n",
      "- $x=$`NaN`\n",
      "\n",
      "- $x=$`Inf`\n",
      "\n",
      "- un n\u00famero $x>0$ *normal*\n",
      "\n",
      "- un n\u00famero $x$ *subnormal*\n",
      "\n",
      "- $x=0.0$ y $x = -0.0$"
     ]
    },
    {
     "cell_type": "code",
     "collapsed": false,
     "input": [
      "println(bits(NaN)) \n",
      "println(bits(Inf)) \n",
      "println(bits(2^63)) \n",
      "println(bits(-2^62)) \n",
      "println(bits(0.0)) \n",
      "println(bits(-0.0)) "
     ],
     "language": "python",
     "metadata": {},
     "outputs": [
      {
       "output_type": "stream",
       "stream": "stdout",
       "text": [
        "0111111111111000000000000000000000000000000000000000000000000000\n"
       ]
      },
      {
       "output_type": "stream",
       "stream": "stdout",
       "text": [
        "0111111111110000000000000000000000000000000000000000000000000000\n",
        "1000000000000000000000000000000000000000000000000000000000000000\n",
        "1100000000000000000000000000000000000000000000000000000000000000\n",
        "0000000000000000000000000000000000000000000000000000000000000000\n",
        "1000000000000000000000000000000000000000000000000000000000000000\n"
       ]
      }
     ],
     "prompt_number": 14
    },
    {
     "cell_type": "markdown",
     "metadata": {},
     "source": [
      "---\n",
      "\n",
      "**Ejercicio 6**\n",
      "\n",
      "- Dado que los n\u00fameros de punto flotante son *finitos*, construye la representaci\u00f3n decimal de dos n\u00fameros normales de punto flotante *consecutivos*, y dos subnormales consecutivos.\n",
      "\n",
      "- \u00bfCu\u00e1l es la representaci\u00f3n binaria del promedio de esos dos n\u00fameros? \u00bfQu\u00e9 obtienes a partir de tus programas?\n",
      "\n",
      "- \u00bfCu\u00e1l es la representaci\u00f3n binaria de la diferencia?"
     ]
    },
    {
     "cell_type": "code",
     "collapsed": false,
     "input": [
      "n1=0000000000001000000000000000000000000000000000000000000000000000\n",
      "n2=0000000000001000000000000000000000000000000000000000000000000001\n",
      "s1=0000000000000000000000000000000000000000000000000000000000000000\n",
      "s2=0000000000000000000000000000000000000000000000000000000000000001\n",
      "\n",
      "p1=(base2dec(n1,2)+base2dec(n2,2))/2\n",
      "d1=-base2dec(n1,2)+base2dec(n2,2)\n",
      "\n",
      "p2=(base2dec(s1,2)+base2dec(s2,2))/2\n",
      "d2=-base2dec(s1,2)+base2dec(s2,2)\n",
      "\n",
      "tobase(p2,2,64)\n",
      "tobase(d2,2,64)"
     ],
     "language": "python",
     "metadata": {},
     "outputs": [
      {
       "metadata": {},
       "output_type": "pyout",
       "prompt_number": 46,
       "text": [
        "1.0"
       ]
      }
     ],
     "prompt_number": 46
    },
    {
     "cell_type": "markdown",
     "metadata": {},
     "source": [
      "---\n",
      "\n",
      "**Ejercicio 7** Donde *todo esto*, y mucho m\u00e1s, puede ser importante...\n",
      "\n",
      "Escribe una funci\u00f3n que eval\u00fae\n",
      "\n",
      "\\begin{equation}\n",
      "f(x,y) = 333.75 y^6 + x^2 (11 x^2 y^2 - y^6 - 121 y^4 - 2) + 5.5 y^8 + \\frac{x}{2y}\n",
      "\\end{equation}\n",
      "\n",
      "Usando esta funci\u00f3n, *demuestra* que $f(x=77617, y=33096) = -0.8273960599468214$.\n",
      "\n",
      "**NOTA** Los n\u00fameros jan sido verificados y *son correctos* :-)"
     ]
    },
    {
     "cell_type": "code",
     "collapsed": false,
     "input": [
      "function f(x,y)\n",
      "    c1=BigFloat((333.75)*(y*y*y*y*y*y))\n",
      "    c2=BigFloat(11.0*(x*x*x*x)*(y*y))\n",
      "    c5=BigFloat((y*y*y*y*y*y)*(x*x))\n",
      "c6=BigFloat((121.0*(y*y*y*y)*(x*x)))\n",
      "c7=BigFloat(2.0*x*x)\n",
      "\n",
      "c3=BigFloat((5.5)*(y*y*y*y*y*y*y*y))\n",
      "    c4=BigFloat(x/(2.0*y))\n",
      "    \n",
      "    c1+c2+c3+c4-c5-c6-c7\n",
      "end\n",
      "\n",
      "f(77617,33096)"
     ],
     "language": "python",
     "metadata": {},
     "outputs": [
      {
       "metadata": {},
       "output_type": "pyout",
       "prompt_number": 25,
       "text": [
        "-8.818137378642657336333176705928273960599468213050755593940266408026218414306641e+29 with 256 bits of precision"
       ]
      }
     ],
     "prompt_number": 25
    },
    {
     "cell_type": "markdown",
     "metadata": {},
     "source": [
      "---\n",
      "\n",
      "**Ejercicio 8**\n",
      "\n",
      "Pensando en que vas a generar datos para hacer una gr\u00e1fica (con suficientes puntos), genera dichos datos para los *polinomios* $f(x) = (1-x)^6$ y $g(x) = x^6 -6x^5 + 15x^4 -20 x^3 + 15x^2 - 6 x + 1$, en el dominio $0.995 \\leq x \\leq 1.005$. \u00bfHay algo sorprendente en esto?"
     ]
    },
    {
     "cell_type": "code",
     "collapsed": false,
     "input": [
      "function f(x)\n",
      "(1-x)^6\n",
      "end\n",
      "\n",
      "function g(x)\n",
      "x^6-6x^5+15x^4-20x^3+15x^2-6x+1\n",
      "end\n",
      "\n",
      "for i=0:10\n",
      "println(f(.995+(i/1000)),\" \",g(995+(i/1000)))\n",
      "end\n"
     ],
     "language": "python",
     "metadata": {},
     "outputs": [
      {
       "output_type": "stream",
       "stream": "stdout",
       "text": [
        "1."
       ]
      },
      {
       "output_type": "stream",
       "stream": "stdout",
       "text": [
        "5625000000000082e-14 9.645356993933906e17\n",
        "4.0960000000000216e-15 9.645415215551126e17\n",
        "7.290000000000039e-16 9.645473437461212e17\n",
        "6.400000000000034e-17 9.645531659664169e17\n",
        "1.0000000000000053e-18 9.645589882159988e17\n",
        "0.0 9.645648104948678e17\n",
        "9.999999999993393e-19 9.645706328030239e17\n",
        "6.400000000000034e-17 9.645764551404671e17\n",
        "7.28999999999842e-16 9.645822775071981e17\n",
        "4.0960000000000216e-15 9.64588099903216e17\n",
        "1.5624999999998002e-14 9.645939223285213e17\n"
       ]
      }
     ],
     "prompt_number": 32
    },
    {
     "cell_type": "markdown",
     "metadata": {},
     "source": [
      "---\n",
      "\n",
      "**Ejercicio 9**\n",
      "\n",
      "Explica por qu\u00e9 es mala idea usar como paso de integraci\u00f3n $0.1$ o $0.01$, u otros valores de este estilo. \u00bfQu\u00e9 pasa con el tiempo que vas calculando en cada paso de la integraci\u00f3n?"
     ]
    },
    {
     "cell_type": "code",
     "collapsed": false,
     "input": [
      "Debido a que la representacion de estos numeros no es exacta, en cada incremento, la representacion misma va acumulando errores. \n",
      "Es mejor utilizar potencias de 1/2 "
     ],
     "language": "python",
     "metadata": {},
     "outputs": []
    }
   ],
   "metadata": {}
  }
 ]
}