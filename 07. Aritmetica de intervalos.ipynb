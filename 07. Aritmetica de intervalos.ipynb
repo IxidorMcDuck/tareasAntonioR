{
 "metadata": {
  "kernelspec": {
   "display_name": "Julia 0.3.7-pre",
   "language": "julia",
   "name": "julia 0.3"
  },
  "language": "Julia",
  "language_info": {
   "name": "julia",
   "version": "0.3.7"
  },
  "name": "",
  "signature": "sha256:40ca5c58929e577dd892207389148cb33fce5b35a81d3a8d464b268760103e8c"
 },
 "nbformat": 3,
 "nbformat_minor": 0,
 "worksheets": [
  {
   "cells": [
    {
     "cell_type": "heading",
     "level": 1,
     "metadata": {},
     "source": [
      "Intervalos"
     ]
    },
    {
     "cell_type": "markdown",
     "metadata": {},
     "source": [
      "Como vimos en el notebook anterior, trabajaremos con intervalos.\n",
      "\n",
      "Recordemos que un *intervalo* $[a,b] \\subseteq \\mathbb{R^*}$ es el conjunto \n",
      "\n",
      "$$[a, b] := \\{x \\in \\mathbb{R}^* : a \\le x \\le b \\}$$."
     ]
    },
    {
     "cell_type": "heading",
     "level": 2,
     "metadata": {},
     "source": [
      "Intervalos en Julia"
     ]
    },
    {
     "cell_type": "markdown",
     "metadata": {},
     "source": [
      "[1] (i) Define un tipo comp\u00f3sito de Julia `Intervalo` para representar un intervalo de dos n\u00fameros reales, que incluya redondeo dirigido. Por el momento supongamos que todos los elementos ser\u00e1n de tipo `BigFloat`.\n",
      "\n",
      "Para ello, deber\u00e1s definir constructores que acepten cadenas y/o n\u00fameros.\n",
      "\n",
      "(ii) Implementa las operaciones b\u00e1sicas sobre intervalos.\n",
      "\n",
      "(iii) Limpia tu c\u00f3digo para reducir la repetici\u00f3n de c\u00f3digo, al sacar cada vez c\u00f3digo en com\u00fan a una funci\u00f3n por separado.\n",
      "\n",
      "[2] Haz un *m\u00f3dulo* de Julia llamado `Intervalos` en un archivo `intervalos.jl`, que contiene todas las definiciones anteriores. \n",
      "\n",
      "[3] (i) Escribe *tests* (\"pruebas\") usando [`FactCheck.jl`](https://github.com/JuliaLang/FactCheck.jl).\n",
      "\n",
      "Estos tests se deber\u00e1n correr cada vez que modifiques tu c\u00f3digo, \u00a1para verificar que no lo hayas estropeado entre tanto!\n",
      "\n",
      "(ii) \u00a1Intenta destruir el c\u00f3digo de alguien m\u00e1s! O sea, escribe tests que realmente prueben el c\u00f3digo del otro (\u00a1\"extreme testing\"!)"
     ]
    },
    {
     "cell_type": "code",
     "collapsed": false,
     "input": [
      "using IntervalosAR\n",
      "using intervalTest"
     ],
     "language": "python",
     "metadata": {},
     "outputs": [
      {
       "output_type": "stream",
       "stream": "stdout",
       "text": [
        "funcionalidad del constructor y operaciones basicas\n",
        "5 facts verified.\n"
       ]
      },
      {
       "output_type": "stream",
       "stream": "stderr",
       "text": [
        "Warning: requiring \"intervalTest\" did not define a corresponding module.\n"
       ]
      }
     ],
     "prompt_number": 1
    },
    {
     "cell_type": "code",
     "collapsed": false,
     "input": [
      "Interval(-.5,-3) == Interval(-.5,-3)"
     ],
     "language": "python",
     "metadata": {},
     "outputs": [
      {
       "metadata": {},
       "output_type": "pyout",
       "prompt_number": 2,
       "text": [
        "true"
       ]
      }
     ],
     "prompt_number": 2
    },
    {
     "cell_type": "code",
     "collapsed": false,
     "input": [
      "using intervalTestPablo\n",
      "\n"
     ],
     "language": "python",
     "metadata": {},
     "outputs": [
      {
       "output_type": "stream",
       "stream": "stderr",
       "text": [
        "Warning: requiring \"IntervalsPablo\" did not define a corresponding module.\n"
       ]
      },
      {
       "output_type": "stream",
       "stream": "stdout",
       "text": [
        "funcionalidad del constructor y operaciones basicas\n",
        "5 facts verified.\n"
       ]
      },
      {
       "output_type": "stream",
       "stream": "stderr",
       "text": [
        "Warning: requiring \"intervalTestPablo\" did not define a corresponding module.\n"
       ]
      }
     ],
     "prompt_number": 3
    },
    {
     "cell_type": "heading",
     "level": 2,
     "metadata": {},
     "source": [
      "Operaciones con intervalos "
     ]
    },
    {
     "cell_type": "markdown",
     "metadata": {},
     "source": [
      "El prop\u00f3sito de trabajar con intervalos es, por supuesto, el poder *usarlos* para llevar a cabo c\u00e1lculos."
     ]
    },
    {
     "cell_type": "markdown",
     "metadata": {},
     "source": [
      "[4] Utiliza tu c\u00f3digo para rehacer el c\u00e1lculo de $\\pi$ del notebook 5. Ahora, \u00a1deber\u00e1 ser mucho m\u00e1s f\u00e1cil! \n",
      "\n",
      "\u00bfCu\u00e1l es la diferencia entre el c\u00e1lculo mediante intervalos y el c\u00e1lculo original que hicimos?"
     ]
    },
    {
     "cell_type": "code",
     "collapsed": false,
     "input": [
      "function sumaN(n)\n",
      "sum=Interval(0,0)\n",
      "for i=1:n\n",
      "sum = sum + Interval((1/(i^2)),(1/(i^2)))\n",
      "end\n",
      "sum+Interval(1/(n+1),1/n)\n",
      "end\n",
      "\n",
      "println(sumaN(50))\n",
      "println(pi*pi/6)"
     ],
     "language": "python",
     "metadata": {},
     "outputs": [
      {
       "output_type": "stream",
       "stream": "stdout",
       "text": [
        "Interval("
       ]
      },
      {
       "output_type": "stream",
       "stream": "stdout",
       "text": [
        "1.644740576758784000000000000000000000000000000000000000000000000000000000000005e+00 with 256 bits of precision,1.645132733621529000000000000000000000000000000000000000000000000000000000000005e+00 with 256 bits of precision)\n",
        "1.6449340668482264\n"
       ]
      }
     ],
     "prompt_number": 3
    },
    {
     "cell_type": "markdown",
     "metadata": {},
     "source": [
      "Sin embargo, hay sutilezas con las operaciones con intervalos:"
     ]
    },
    {
     "cell_type": "markdown",
     "metadata": {},
     "source": [
      "[5] (i) Define la potencia para intervalos.\n",
      "\n",
      "(ii) Para el intervalo $X = [-1,1]$, calcula $X \\cdot X$ y $X^2$ (donde $\\cdot$ denota la multiplicaci\u00f3n de intervalos). \u00bfQu\u00e9 observas? "
     ]
    },
    {
     "cell_type": "code",
     "collapsed": false,
     "input": [
      "function ^(Y::Interval,a::Int)\n",
      "res=Interval(Y.lowbound^a,Y.upbound^a)\n",
      "end\n",
      "X=Interval(-1,1)\n",
      "println(Interval(-3,2)^2)\n",
      "println(Interval(-3,2)^3)\n",
      "println(X*X)\n",
      "println(X^2)\n"
     ],
     "language": "python",
     "metadata": {},
     "outputs": [
      {
       "output_type": "stream",
       "stream": "stdout",
       "text": [
        "Interval("
       ]
      },
      {
       "output_type": "stream",
       "stream": "stdout",
       "text": [
        "4e+00 with 256 bits of precision,9e+00 with 256 bits of precision)\n",
        "Interval(-2.7e+01 with 256 bits of precision,8e+00 with 256 bits of precision)\n",
        "Interval(-1e+00 with 256 bits of precision,1e+00 with 256 bits of precision)\n",
        "Interval(1e+00 with 256 bits of precision,1e+00 with 256 bits of precision)\n"
       ]
      }
     ],
     "prompt_number": 6
    },
    {
     "cell_type": "markdown",
     "metadata": {},
     "source": [
      "La multiplicacion y la exponenciacion de intervalos, no son iguales por entradas"
     ]
    },
    {
     "cell_type": "markdown",
     "metadata": {},
     "source": [
      "(iii) Calcula $[-1,1] \\cdot \\left([-1,0] + [3,4]\\right)$ y $[-1,1]\\cdot [-1,0] + [-1,1] \\cdot [3,4]$. \u00bfQu\u00e9 observas?"
     ]
    },
    {
     "cell_type": "code",
     "collapsed": false,
     "input": [
      "println(X*(Interval(-1,0)+Interval(3,4)))\n",
      "println((X*Interval(-1,0))+(X*Interval(3,4)))"
     ],
     "language": "python",
     "metadata": {},
     "outputs": [
      {
       "output_type": "stream",
       "stream": "stdout",
       "text": [
        "Interval("
       ]
      },
      {
       "output_type": "stream",
       "stream": "stdout",
       "text": [
        "-4e+00 with 256 bits of precision,4e+00 with 256 bits of precision)\n",
        "Interval(-5e+00 with 256 bits of precision,5e+00 with 256 bits of precision)\n"
       ]
      }
     ],
     "prompt_number": 9
    },
    {
     "cell_type": "markdown",
     "metadata": {},
     "source": [
      "La multiplicacion de intervalos no es distributiva"
     ]
    },
    {
     "cell_type": "markdown",
     "metadata": {},
     "source": [
      "[6] Con las operaciones definidas en Julia, podemos insertar intervalos en c\u00e1lculos sencillos.\n",
      "\n",
      "(i) Define una funci\u00f3n polinomial $p_1(x) := (x-1)(x-2)$. \n",
      "\n",
      "(ii) \u00bfC\u00f3mo se puede mandar a $p_1$ un intervalo como argumento?\n",
      "\n",
      "(iii) \u00bfQu\u00e9 representa el resultado?\n",
      "\n",
      "(iv) Juega con distintos intervalos como entrada y dibuja los resultados. \u00bfQu\u00e9 observas?\n",
      "\n",
      "(v) \u00bfQu\u00e9 pasa si reescribes $p_1$ en una forma equivalente? \u00bfEn otra forma equivalente?\n",
      "\n",
      "(vi) Pensando en este ejemplo de polinomios, \u00bfpara qu\u00e9 nos sirven los intervalos?"
     ]
    },
    {
     "cell_type": "code",
     "collapsed": false,
     "input": [
      "function p1(x)\n",
      "(x-1)*(x-2)\n",
      "end"
     ],
     "language": "python",
     "metadata": {},
     "outputs": [
      {
       "metadata": {},
       "output_type": "pyout",
       "prompt_number": 10,
       "text": [
        "p1 (generic function with 1 method)"
       ]
      }
     ],
     "prompt_number": 10
    },
    {
     "cell_type": "code",
     "collapsed": false,
     "input": [
      "function p1(X::Interval)\n",
      "    z=Interval(p1(X.lowbound),p1(X.upbound))\n",
      "end"
     ],
     "language": "python",
     "metadata": {},
     "outputs": [
      {
       "metadata": {},
       "output_type": "pyout",
       "prompt_number": 11,
       "text": [
        "p1 (generic function with 2 methods)"
       ]
      }
     ],
     "prompt_number": 11
    },
    {
     "cell_type": "markdown",
     "metadata": {},
     "source": [
      "El resultado es la imagen del intervalo completo bajo p1"
     ]
    },
    {
     "cell_type": "code",
     "collapsed": false,
     "input": [
      "println(p1(Interval(-1,1)))\n",
      "println(p1(Interval(2,4)))\n",
      "println(p1(Interval(10,15)))\n",
      "println(p1(Interval(-15,-10)))"
     ],
     "language": "python",
     "metadata": {},
     "outputs": [
      {
       "output_type": "stream",
       "stream": "stdout",
       "text": [
        "Interval("
       ]
      },
      {
       "output_type": "stream",
       "stream": "stdout",
       "text": [
        "-0e+00 with 256 bits of precision,6e+00 with 256 bits of precision)\n",
        "Interval(0e+00 with 256 bits of precision,6e+00 with 256 bits of precision)\n",
        "Interval(7.2e+01 with 256 bits of precision,1.82e+02 with 256 bits of precision)\n",
        "Interval(1.32e+02 with 256 bits of precision,2.72e+02 with 256 bits of precision)\n"
       ]
      }
     ],
     "prompt_number": 19
    },
    {
     "cell_type": "code",
     "collapsed": false,
     "input": [
      "function p1b(x)\n",
      "(x^2)-(3*x)+2\n",
      "end\n",
      "function p1b(X::Interval)\n",
      "    z=Interval(p1b(X.lowbound),p1b(X.upbound))\n",
      "end"
     ],
     "language": "python",
     "metadata": {},
     "outputs": [
      {
       "metadata": {},
       "output_type": "pyout",
       "prompt_number": 14,
       "text": [
        "p1b (generic function with 2 methods)"
       ]
      }
     ],
     "prompt_number": 14
    },
    {
     "cell_type": "code",
     "collapsed": false,
     "input": [
      "println(p1b(Interval(-1,1)))\n",
      "println(p1b(Interval(2,4)))\n",
      "println(p1b(Interval(10,15)))\n",
      "println(p1b(Interval(-15,-10)))"
     ],
     "language": "python",
     "metadata": {},
     "outputs": [
      {
       "output_type": "stream",
       "stream": "stdout",
       "text": [
        "Interval("
       ]
      },
      {
       "output_type": "stream",
       "stream": "stdout",
       "text": [
        "0e+00 with 256 bits of precision,6e+00 with 256 bits of precision)\n",
        "Interval(0e+00 with 256 bits of precision,6e+00 with 256 bits of precision)\n",
        "Interval(7.2e+01 with 256 bits of precision,1.82e+02 with 256 bits of precision)\n",
        "Interval(1.32e+02 with 256 bits of precision,2.72e+02 with 256 bits of precision)\n"
       ]
      }
     ],
     "prompt_number": 20
    },
    {
     "cell_type": "markdown",
     "metadata": {},
     "source": [
      "[7] (i) Haz una implementaci\u00f3n de tu idea de la pregunta [6].\n",
      "\n",
      "(ii) Pru\u00e9balo con $p_2(x) := x^2 - 2$.\n",
      "\n",
      "(iii) Pru\u00e9balo con otros polinomios."
     ]
    },
    {
     "cell_type": "code",
     "collapsed": false,
     "input": [
      "function p2(X::Interval)\n",
      "    X^2-Interval(2,2)\n",
      "end\n",
      "function p2b(X::Interval)\n",
      "    (X-Interval(sqrt(2),sqrt(2)))*(X+Interval(sqrt(2),sqrt(2)))\n",
      "end"
     ],
     "language": "python",
     "metadata": {},
     "outputs": [
      {
       "metadata": {},
       "output_type": "pyout",
       "prompt_number": 16,
       "text": [
        "p2b (generic function with 1 method)"
       ]
      }
     ],
     "prompt_number": 16
    },
    {
     "cell_type": "code",
     "collapsed": false,
     "input": [
      "println(p2(Interval(-1,1)))\n",
      "println(p2(Interval(2,4)))\n",
      "println(p2(Interval(10,15)))\n",
      "println(p2(Interval(-15,-10)))\n",
      "println(p2b(Interval(-1,1)))\n",
      "println(p2b(Interval(2,4)))\n",
      "println(p2b(Interval(10,15)))\n",
      "println(p2b(Interval(-15,-10)))"
     ],
     "language": "python",
     "metadata": {},
     "outputs": [
      {
       "output_type": "stream",
       "stream": "stdout",
       "text": [
        "Interval("
       ]
      },
      {
       "output_type": "stream",
       "stream": "stdout",
       "text": [
        "-1e+00 with 256 bits of precision,-1e+00 with 256 bits of precision)\n",
        "Interval(2e+00 with 256 bits of precision,1.4e+01 with 256 bits of precision)\n",
        "Interval(9.8e+01 with 256 bits of precision,2.23e+02 with 256 bits of precision)\n",
        "Interval(9.8e+01 with 256 bits of precision,2.23e+02 with 256 bits of precision)\n",
        "Interval(-5.828427124746190000000000000000000000000000000000000000000000000000000000000034e+00 with 256 bits of precision,-1.715728752538099299999999999999999999999999999999999999999999999999999999999993e-01 with 256 bits of precision)\n",
        "Interval(1.999999999999999800000000000000000000000000000000000000000000000000000000000007e+00 with 256 bits of precision,1.4e+01 with 256 bits of precision)\n",
        "Interval(9.8e+01 with 256 bits of precision,2.23e+02 with 256 bits of precision)\n",
        "Interval(9.8e+01 with 256 bits of precision,2.23e+02 with 256 bits of precision)\n"
       ]
      }
     ],
     "prompt_number": 18
    },
    {
     "cell_type": "code",
     "collapsed": false,
     "input": [],
     "language": "python",
     "metadata": {},
     "outputs": []
    }
   ],
   "metadata": {}
  }
 ]
}