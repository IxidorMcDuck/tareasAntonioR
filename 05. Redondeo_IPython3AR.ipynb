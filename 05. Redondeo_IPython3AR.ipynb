{
 "metadata": {
  "kernelspec": {
   "display_name": "Julia 0.3.7-pre",
   "language": "julia",
   "name": "julia 0.3"
  },
  "language": "Julia",
  "language_info": {
   "name": "julia",
   "version": "0.3.7"
  },
  "name": "",
  "signature": "sha256:f7648baa2ba7dfb3f5c0e86a11f7add23e08ff2f2e6a42c47dfdd66617515876"
 },
 "nbformat": 3,
 "nbformat_minor": 0,
 "worksheets": [
  {
   "cells": [
    {
     "cell_type": "heading",
     "level": 1,
     "metadata": {},
     "source": [
      "Redondeo"
     ]
    },
    {
     "cell_type": "markdown",
     "metadata": {},
     "source": [
      "$\\newcommand{\\RR}{\\mathbb{R}}$\n",
      "$\\newcommand{\\FF}{\\mathbb{F}}$\n",
      "\n",
      "Tenemos una representaci\u00f3n del conjunto no-numerable $\\RR$ a trav\u00e9s del conjunto finito $\\FF$. \u00bfC\u00f3mo podemos pasar de un n\u00famero real a un n\u00famero flotante, si el n\u00famero real no es exactamente representable (lo cual es el caso para \u00a1*casi todos* los n\u00fameros reales!)? Extenderemos para este fin los n\u00fameros reales y los flotantes con $\\pm \\infty$, y hablaremos de los reales extendidos $\\RR^* := \\RR \\cup \\{-\\infty, +\\infty \\}$  y $\\FF^* := \\FF \\cup \\{-\\infty, +\\infty \\}$.\n",
      "\n",
      "Un mapeo $\\bigcirc: \\RR^* \\to \\FF^*$ es una *operaci\u00f3n de redondeo* si \n",
      "\n",
      "- Para toda $x \\in \\FF^*$, $\\bigcirc(x) = x$.\n",
      "- Si $x, y \\in \\RR^*$, y $x \\le y$, entonces $\\bigcirc(x) \\le \\bigcirc(y)$.\n",
      "\n",
      "Es decir, el redondeo deja invariantes los n\u00fameros representables en el sistema de punto flotante, y preserva el orden."
     ]
    },
    {
     "cell_type": "markdown",
     "metadata": {},
     "source": [
      "Utilizaremos dos modos de redondeo: $\\bigtriangleup$, que redondea para arriba (hacia $+\\infty$), y $\\bigtriangledown$, que redondea para abajo (hacia $-\\infty$). Se definen como sigue:\n",
      "\n",
      "- $\\bigtriangleup \\! (x) := \\min \\{y \\in \\FF^*: y \\ge x \\}$\n",
      "- $\\bigtriangledown(x) := \\max \\{y \\in \\FF^*: y \\le x \\}$\n",
      "\n",
      "Hablamos de $x$ redondeado para arriba y $x$ redondeado para abajo, respectivamente; estos dos modos de redondeo se llaman modos de redondeo *dirigidos*.\n",
      "\n",
      "Nota que no es evidente c\u00f3mo implementar estas operaciones en la computadora, ya que \u00a1*no podemos representar los n\u00fameros reales originales*!"
     ]
    },
    {
     "cell_type": "markdown",
     "metadata": {},
     "source": [
      "[1] (i) Si tuvi\u00e9ramos un n\u00famero real positivo $x$ (es decir, con  precisi\u00f3n infinita), \u00bfc\u00f3mo podr\u00edamos encontrar $\\bigtriangleup(x)$ y $\\bigtriangledown(x)$?\n",
      "\n",
      "(ii) Encuentra $\\bigtriangleup(0.1)$ y $\\bigtriangledown(0.1)$ para aritm\u00e9tica flotante de IEEE. \u00bfEn cu\u00e1nto difieren? \u00bfQu\u00e9 podemos decir sobre el *error de redondeo*?\n",
      "\n",
      "[2] Haz de nuevo el ejercicio anterior para $x=1.1$ y para $x=10.1$.\n",
      "\n",
      "[3] \u00bfQu\u00e9 pasa con $\\bigtriangleup(x)$ y $\\bigtriangledown(x)$ si $x \\in \\FF^*$?\n",
      "\n",
      "[4] \u00bfCu\u00e1l es la relaci\u00f3n entre $\\bigtriangleup(-x)$ y $\\bigtriangledown(x)$?\n"
     ]
    },
    {
     "cell_type": "code",
     "collapsed": false,
     "input": [
      "function tobase(l,base)\n",
      "lsize=l\n",
      "d=0\n",
      "while lsize>=1\n",
      "digit=l%base\n",
      "    \n",
      "         lsize=(lsize-lsize%base)\n",
      "       \n",
      "       lsize=lsize/base\n",
      "    d=d+1\n",
      "    end\n",
      "\n",
      "\n",
      "bina=zeros(Int,d)\n",
      "j=1\n",
      "while l>=1\n",
      "digit=l%base\n",
      "    bina[j]=digit\n",
      "         l=(l-digit)\n",
      "       \n",
      "       l=l/base\n",
      "    j=j+1\n",
      "    end\n",
      "bina=reverse(bina)\n",
      "num=0\n",
      "str=\"\"\n",
      "for j=1:d\n",
      "u=bina[j]\n",
      "str= str*\"$u\"\n",
      "num=num+u*10.0^(d-j)\n",
      "end\n",
      "\n",
      "str\n",
      "end\n",
      "\n",
      "function binWdec(num)\n",
      "binstrg=\"$num\"\n",
      "\n",
      "k=sizeof(binstrg)\n",
      "mark=0\n",
      "for i=1:k\n",
      "    if binstrg[i]=='.'\n",
      "        mark=i\n",
      "end\n",
      "    end\n",
      "a=mark\n",
      "b=mark-1\n",
      "partedec=BigFloat(binstrg[a:k])\n",
      "\n",
      "if mark != 1\n",
      "parteint=float(binstrg[1:b])\n",
      "entero=tobase(parteint,2)\n",
      "end\n",
      "\n",
      "binar=zeros(Int,250)\n",
      "s=1\n",
      "    \n",
      "    while partedec!=0 && s<=250\n",
      "    \n",
      "        if (partedec-(1/2)^s)<0\n",
      "        binar[s]=0\n",
      "        \n",
      "        else\n",
      "            partedec = (partedec-(1/2)^s)\n",
      "        binar[s]=1\n",
      "         \n",
      "    end\n",
      "    s=s+1\n",
      "end\n",
      "\n",
      "\n",
      "stri=\"\"\n",
      "\n",
      "for j=1:250\n",
      "if binar[j]==1\n",
      "        stri= stri*\"1\"\n",
      "elseif binar[j]==0\n",
      "        stri= stri*\"0\"\n",
      "end\n",
      "end\n",
      "\n",
      "\n",
      "final=entero*\".\"*stri\n",
      "\n",
      "end\n",
      "\n",
      "function conv2dec(binary1)\n",
      "\n",
      "\n",
      "decimal1=BigFloat(0)\n",
      "partition=0\n",
      "mark=0\n",
      "for j=1:sizeof(binary1)\n",
      "    if binary1[j]=='.'\n",
      "        partition=sizeof(binary1)-j\n",
      "        mark=j\n",
      "    end\n",
      "end\n",
      "\n",
      "for i=1:mark\n",
      "    if binary1[i]=='1'\n",
      "        decimal1=decimal1+(2.0^(sizeof(binary1)-partition-1-i))\n",
      "    end\n",
      "end\n",
      "\n",
      "for i=mark:sizeof(binary1)\n",
      "     \n",
      "\n",
      "    if binary1[i]=='1'\n",
      "        decimal1=decimal1+(2.0^(sizeof(binary1)-partition-i))\n",
      "    end\n",
      "     \n",
      "end\n",
      "decimal1\n",
      "end\n",
      "\n",
      "\n",
      "\n"
     ],
     "language": "python",
     "metadata": {},
     "outputs": [
      {
       "metadata": {},
       "output_type": "pyout",
       "prompt_number": 5,
       "text": [
        "conv2dec (generic function with 1 method)"
       ]
      }
     ],
     "prompt_number": 5
    },
    {
     "cell_type": "code",
     "collapsed": false,
     "input": [
      "function round64(binchain,opt)\n",
      "mark=0\n",
      "y=sizeof(binchain)\n",
      "    rounded=\"\"\n",
      "for i=1:y\n",
      "if binchain[i]=='.'\n",
      "mark=i\n",
      "end\n",
      "end\n",
      "    dr=false\n",
      " for i=65:y\n",
      "            if binchain[i]=='1'   \n",
      "            dr=true\n",
      "        end\n",
      "    end\n",
      "    \n",
      "if opt=='u'\n",
      "if dr==true\n",
      "j=64\n",
      "while binchain[j] =='1'\n",
      "                j=j-1\n",
      "end\n",
      "            rounded=binchain[1:j-1]*\"1\"\n",
      "            for h=(j+1):64\n",
      "                rounded=rounded*\"0\"\n",
      "            end\n",
      "else\n",
      "rounded=binchain[1:64]               \n",
      "end\n",
      "        \n",
      "elseif opt=='d'\n",
      "        \n",
      "            rounded=binchain[1:64]\n",
      "        \n",
      "end\n",
      "    rounded    \n",
      "end\n",
      "\n",
      "round64(binWdec(100.1),'u')"
     ],
     "language": "python",
     "metadata": {},
     "outputs": [
      {
       "metadata": {},
       "output_type": "pyout",
       "prompt_number": 6,
       "text": [
        "\"1100100.00011001100110011001100110011001100110011001100110011010\""
       ]
      }
     ],
     "prompt_number": 6
    },
    {
     "cell_type": "code",
     "collapsed": false,
     "input": [
      "println(round64(binWdec(.1),'u'),\" = \")\n",
      "println(conv2dec(round64(binWdec(.1),'u')))\n",
      "println(round64(binWdec(.1),'d'))\n",
      "println(conv2dec(round64(binWdec(.1),'d')))\n",
      "println(conv2dec(round64(binWdec(.1),'u'))-conv2dec(round64(binWdec(.1),'d')))\n",
      "println()\n",
      "\n",
      "println(round64(binWdec(1.1),'u'))\n",
      "println(conv2dec(round64(binWdec(1.1),'u')))\n",
      "println(round64(binWdec(1.1),'d'))\n",
      "println(conv2dec(round64(binWdec(1.1),'d')))\n",
      "println(conv2dec(round64(binWdec(1.1),'u'))-conv2dec(round64(binWdec(1.1),'d')))\n",
      "println()\n",
      "\n",
      "println(round64(binWdec(10.1),'u'))\n",
      "println(conv2dec(round64(binWdec(10.1),'u')))\n",
      "println(round64(binWdec(10.1),'d'))\n",
      "println(conv2dec(round64(binWdec(10.1),'d')))\n",
      "println(conv2dec(round64(binWdec(10.1),'u'))-conv2dec(round64(binWdec(10.1),'d')))\n",
      "println()"
     ],
     "language": "python",
     "metadata": {},
     "outputs": [
      {
       "output_type": "stream",
       "stream": "stdout",
       "text": [
        ".000110011001100110011001100110011001100110011001100110011001101 = "
       ]
      },
      {
       "output_type": "stream",
       "stream": "stdout",
       "text": [
        "\n",
        "1.00000000000000000021684043449710088680149056017398834228515625e-01\n",
        ".000110011001100110011001100110011001100110011001100110011001100\n",
        "9.99999999999999999132638262011596452794037759304046630859375e-02\n",
        "1.08420217248550443400745280086994171142578125e-19\n",
        "\n",
        "1.00011001100110011001100110011001100110011001100110011001100111\n",
        "1.10000000000000000013010426069826053208089433610439300537109375e+00\n",
        "1.00011001100110011001100110011001100110011001100110011001100110\n",
        "1.0999999999999999999132638262011596452794037759304046630859375e+00\n",
        "2.1684043449710088680149056017398834228515625e-19\n",
        "\n",
        "1010.00011001100110011001100110011001100110011001100110011001101\n",
        "1.010000000000000000034694469519536141888238489627838134765625e+01\n",
        "1010.00011001100110011001100110011001100110011001100110011001100\n",
        "1.0099999999999999998612221219218554324470460414886474609375e+01\n",
        "1.73472347597680709441192448139190673828125e-18\n",
        "\n"
       ]
      }
     ],
     "prompt_number": 10
    },
    {
     "cell_type": "code",
     "collapsed": false,
     "input": [
      "De lo anterior, podemos ver que el error de redondeo crece con respecto al numero original.\n",
      "Si x pertenece a F*, sus redondeos tanto para arriba como para abajo son iguales a x. "
     ],
     "language": "python",
     "metadata": {},
     "outputs": []
    },
    {
     "cell_type": "code",
     "collapsed": false,
     "input": [
      "set_rounding(Float64,RoundDown)\n",
      "println(.1)\n",
      "println(bits(.1))\n",
      "set_rounding(Float64,RoundUp)\n",
      "println(-.1)\n",
      "println(bits(-.1))\n"
     ],
     "language": "python",
     "metadata": {},
     "outputs": [
      {
       "output_type": "stream",
       "stream": "stdout",
       "text": [
        "0.0"
       ]
      },
      {
       "output_type": "stream",
       "stream": "stdout",
       "text": [
        "9999999999999999\n",
        "0011111110111001100110011001100110011001100110011001100110011001\n",
        "-0.09999999999999999\n",
        "1011111110111001100110011001100110011001100110011001100110011001\n"
       ]
      }
     ],
     "prompt_number": 11
    },
    {
     "cell_type": "code",
     "collapsed": false,
     "input": [
      "El redondeo hacia arriba de -x y el redondeo hacia abajo de x tienen la misma magnitud y el signo opuesto"
     ],
     "language": "python",
     "metadata": {},
     "outputs": []
    },
    {
     "cell_type": "code",
     "collapsed": false,
     "input": [
      "a= with_rounding(Float64,RoundDown) do\n",
      "1.1+.1   \n",
      "     \n",
      "end\n",
      "\n",
      "b=with_rounding(Float64,RoundUp) do\n",
      "    1.1+.1\n",
      "    \n",
      "end\n",
      "println(a-b)\n",
      "with_rounding(Float64,RoundDown) do\n",
      "    println(.1)  \n",
      "end\n",
      "\n",
      "with_rounding(Float64,RoundUp) do\n",
      "    println(.1) \n",
      "end\n",
      "\n",
      "with_rounding(Float64,RoundDown) do\n",
      "    println(1.1)  \n",
      "end\n",
      "\n",
      "with_rounding(Float64,RoundUp) do\n",
      "    println(1.1) \n",
      "end\n",
      "\n",
      "with_rounding(Float64,RoundDown) do\n",
      "    println(10.1)  \n",
      "end\n",
      "\n",
      "with_rounding(Float64,RoundUp) do\n",
      "    println(10.1) \n",
      "end"
     ],
     "language": "python",
     "metadata": {},
     "outputs": [
      {
       "output_type": "stream",
       "stream": "stdout",
       "text": [
        "-2"
       ]
      },
      {
       "output_type": "stream",
       "stream": "stdout",
       "text": [
        ".220446049250313e-16\n",
        "0.1\n",
        "0.1\n",
        "1.1\n",
        "1.1\n",
        "10.1\n",
        "10.1\n"
       ]
      }
     ],
     "prompt_number": 37
    },
    {
     "cell_type": "markdown",
     "metadata": {},
     "source": [
      "Existen otros modos de redondeo adem\u00e1s de los redondeos arriba mencionados:\n",
      "\n",
      "- Redondeo a cero (truncamiento): $\\square_z(x) = {\\rm sign}(x) \\max\\{y \\in \\FF^*: y\\leq |x| \\}$\n",
      "\n",
      "- Redondeo al m\u00e1s cercano (*round to nearest*): como su nombre lo indica, se redondea al n\u00famero de punto flotante m\u00e1s cercano, usando $\\bigtriangleup(x)$ o $\\bigtriangledown(x)$ seg\u00fan sea el caso. Definiendo $\\mu = (\\bigtriangleup(x) + \\bigtriangledown(x))/2$, entonces:\n",
      "\n",
      "\\begin{equation}\n",
      "\\square_n(x) = \\left\\{\n",
      "\\begin{array}{1 1}\n",
      "\\bigtriangledown(x), &x\\in[\\bigtriangledown(x),\\mu)\\\\\n",
      "\\bigtriangleup(x),   &x\\in[\\mu,\\bigtriangleup(x)].\\\\\n",
      "\\end{array}\n",
      "\\right.\n",
      "\\end{equation}\n",
      "\n",
      "- Redondeo al m\u00e1s cercano *parejo* (*round to nearest even*): es parecido al modo anterior *logrando* que el redondeo hacia arriba y hacia abajo ocurran con la misma probabilidad. (La sutileza en la definici\u00f3n de $\\square_n(x)$ est\u00e1 en que la definici\u00f3n involucra un intervalo cerrado y uno semicerrado.) Este redondeo involucra en la definici\u00f3n la paridad del \u00faltimo d\u00edgito de la representaci\u00f3n de punto flotante de $\\bigtriangleup(x)$ y $\\bigtriangledown(x)$. Este modo de redondeo es el modo m\u00e1s com\u00fan."
     ]
    },
    {
     "cell_type": "heading",
     "level": 2,
     "metadata": {},
     "source": [
      "Aritm\u00e9tica de punto flotante"
     ]
    },
    {
     "cell_type": "markdown",
     "metadata": {},
     "source": [
      "\u00bfC\u00f3mo podemos hacer aritm\u00e9tica en el mundo de punto flotante?\n",
      "\n",
      "[5] Encuentra unos ejemplos de pares de  n\u00fameros $x , y \\in \\FF$ tal que $x \\oplus y \\notin \\FF$. (Aqu\u00ed, $\\FF$ denota a los flotantes de doble precisi\u00f3n de IEEE, y $\\oplus$ es alguna operaci\u00f3n aritm\u00e9tica entre $x$ y $y$.)"
     ]
    },
    {
     "cell_type": "code",
     "collapsed": false,
     "input": [
      "x=1, y=10 ambos pertenecen a F pero x/y ya no pertenece debido a su cola infinita de digitos"
     ],
     "language": "python",
     "metadata": {},
     "outputs": [
      {
       "metadata": {},
       "output_type": "pyout",
       "prompt_number": 12,
       "text": [
        "Inf"
       ]
      }
     ],
     "prompt_number": 12
    },
    {
     "cell_type": "markdown",
     "metadata": {},
     "source": [
      "[6] \u00bfQu\u00e9 podemos hacer al respecto?"
     ]
    },
    {
     "cell_type": "code",
     "collapsed": false,
     "input": [
      "redondear el resultado"
     ],
     "language": "python",
     "metadata": {},
     "outputs": []
    },
    {
     "cell_type": "markdown",
     "metadata": {},
     "source": [
      "[7] En los reales tenemos que, si se cumple $x+y = x+y'$, entonces $y = y'$. \u00bfSe cumple esto entre los n\u00fameros de punto flotante? Si tu respuesta es **no**, da un ejemplo."
     ]
    },
    {
     "cell_type": "markdown",
     "metadata": {},
     "source": [
      "[8] Analiza el caso de iterar el mapeo $f:[0,1] \\to [0,1]$ dado por $f(x) = 3x \\mathrm{\\ mod\\ } 1$, con la condici\u00f3n inicial $x_0 = \\frac{1}{10}$:\n",
      "\n",
      "1. \u00bfQu\u00e9 pasa anal\u00edticamente?\n",
      "2. \u00bfQu\u00e9 pasa num\u00e9ricamente?\n",
      "3. \u00bfQu\u00e9 pasa si consideras una condici\u00f3n inicial $x_0$ arbitraria?\n",
      "\n",
      "[Nota: $\\mathrm{mod\\ } 1$ quiere decir que s\u00f3lo consideramos la parte fraccionaria entre $0$ y $1$ de la respuesta en cada paso.]"
     ]
    },
    {
     "cell_type": "code",
     "collapsed": false,
     "input": [
      "Analiticamente, la sucesion es:.3,.9,.7,.1,.3,.9,.7,.1,....... de manera periodica hasta el infinito. Numericamente obtenemos:"
     ],
     "language": "python",
     "metadata": {},
     "outputs": []
    },
    {
     "cell_type": "code",
     "collapsed": false,
     "input": [
      "x=.1\n",
      "for i=1:100\n",
      "x=3x\n",
      "    while x>1\n",
      "        x=x-1\n",
      "    end\n",
      "    println(x)\n",
      "end"
     ],
     "language": "python",
     "metadata": {},
     "outputs": [
      {
       "output_type": "stream",
       "stream": "stdout",
       "text": [
        "0.30000000000000004"
       ]
      },
      {
       "output_type": "stream",
       "stream": "stdout",
       "text": [
        "\n",
        "0.9000000000000001\n",
        "0.7000000000000006\n",
        "0.10000000000000187\n",
        "0.3000000000000056\n",
        "0.9000000000000168\n",
        "0.7000000000000504\n",
        "0.10000000000015108\n",
        "0.30000000000045324\n",
        "0.9000000000013597\n",
        "0.7000000000040791\n",
        "0.10000000001223741\n",
        "0.30000000003671223\n",
        "0.9000000001101367\n",
        "0.7000000003304101\n",
        "0.1000000009912303\n",
        "0.3000000029736909\n",
        "0.9000000089210727\n",
        "0.700000026763218\n",
        "0.10000008028965413\n",
        "0.3000002408689624\n",
        "0.9000007226068871\n",
        "0.7000021678206614\n",
        "0.10000650346198414\n",
        "0.3000195103859524\n",
        "0.9000585311578573\n",
        "0.7001755934735718\n",
        "0.1005267804207155\n",
        "0.3015803412621465\n",
        "0.9047410237864395\n",
        "0.7142230713593185\n",
        "0.14266921407795552\n",
        "0.42800764223386656\n",
        "0.2840229267015997\n",
        "0.852068780104799\n",
        "0.5562063403143971\n",
        "0.6686190209431913\n",
        "0.005857062829573767\n",
        "0.0175711884887213\n",
        "0.0527135654661639\n",
        "0.1581406963984917\n",
        "0.4744220891954751\n",
        "0.4232662675864254\n",
        "0.26979880275927615\n",
        "0.8093964082778284\n",
        "0.4281892248334853\n",
        "0.28456767450045595\n",
        "0.8537030235013678\n",
        "0.5611090705041035\n",
        "0.6833272115123106\n",
        "0.04998163453693172\n",
        "0.14994490361079515\n",
        "0.44983471083238546\n",
        "0.3495041324971564\n",
        "0.048512397491469184\n",
        "0.14553719247440755\n",
        "0.43661157742322265\n",
        "0.30983473226966796\n",
        "0.9295041968090039\n",
        "0.7885125904270116\n",
        "0.3655377712810348\n",
        "0.09661331384310445\n",
        "0.28983994152931336\n",
        "0.8695198245879401\n",
        "0.6085594737638202\n",
        "0.8256784212914607\n",
        "0.4770352638743822\n",
        "0.43110579162314666\n",
        "0.29331737486944\n",
        "0.87995212460832\n",
        "0.6398563738249599\n",
        "0.9195691214748796\n",
        "0.7587073644246387\n",
        "0.2761220932739161\n",
        "0.8283662798217484\n",
        "0.4850988394652451\n",
        "0.4552965183957354\n",
        "0.3658895551872061\n",
        "0.09766866556161835\n",
        "0.29300599668485505\n",
        "0.8790179900545652\n",
        "0.6370539701636955\n",
        "0.9111619104910864\n",
        "0.7334857314732592\n",
        "0.20045719441977772\n",
        "0.6013715832593332\n",
        "0.8041147497779995\n",
        "0.4123442493339984\n",
        "0.23703274800199514\n",
        "0.7110982440059854\n",
        "0.13329473201795627\n",
        "0.3998841960538688\n",
        "0.19965258816160647\n",
        "0.5989577644848194\n",
        "0.7968732934544582\n",
        "0.3906198803633747\n",
        "0.17185964109012408\n",
        "0.5155789232703722\n",
        "0.5467367698111167\n",
        "0.6402103094333502\n"
       ]
      }
     ],
     "prompt_number": 15
    },
    {
     "cell_type": "code",
     "collapsed": false,
     "input": [
      "Cuando la condicion inicial es arbitraria, la sucesion puede acumular errores si la condicion inicial es un redondeo o la sucesion \n",
      "puede ser exacta, si la condicion inicial pertenece a F"
     ],
     "language": "python",
     "metadata": {},
     "outputs": []
    },
    {
     "cell_type": "heading",
     "level": 2,
     "metadata": {
      "collapsed": false
     },
     "source": [
      "Aplicando redondeo para obtener resultados garantizados"
     ]
    },
    {
     "cell_type": "markdown",
     "metadata": {},
     "source": [
      "Ya estamos en condiciones para empezar a hacer c\u00e1lculos \u00fatiles.\n",
      "\n",
      "Siguiendo al libro de Tucker, consideremos la suma infinita\n",
      "\n",
      "$$S = \\sum_{n=1}^\\infty \\frac{1}{n^2}.$$\n",
      "\n",
      "Se sabe que $S = \\frac{\\pi^2}{6}$."
     ]
    },
    {
     "cell_type": "markdown",
     "metadata": {},
     "source": [
      "[9] Calcula $S$ num\u00e9ricamente de manera ingenua. "
     ]
    },
    {
     "cell_type": "code",
     "collapsed": false,
     "input": [
      "s=0\n",
      "for i=1:1000000\n",
      "    s=s+(1/i^2)\n",
      "end\n",
      "(pi^2/6)-s"
     ],
     "language": "python",
     "metadata": {},
     "outputs": [
      {
       "metadata": {},
       "output_type": "pyout",
       "prompt_number": 12,
       "text": [
        "9.999994563525405e-7"
       ]
      }
     ],
     "prompt_number": 12
    },
    {
     "cell_type": "markdown",
     "metadata": {},
     "source": [
      "Para calcular $S$ de forma num\u00e9rica pero *garantizada*, tenemos dos tareas: debemos lidiar con la suma infinita, y luego garantizar que el resultado realmente contenga el valor verdadero."
     ]
    },
    {
     "cell_type": "markdown",
     "metadata": {},
     "source": [
      "[10] Sea la cola de la suma $T_N := \\sum_{n=N+1}^\\infty \\frac{1}{n^2}$. Utiliza un argumento geom\u00e9trico para mostrar que\n",
      "\n",
      "$$\\int_{N+1}^\\infty \\frac{1}{x^2} dx < T_N < \\int_{N+1}^\\infty \\frac{1}{(x-1)^2} dx,$$\n",
      "\n",
      "y as\u00ed encuentra cotas para $T_N$."
     ]
    },
    {
     "cell_type": "markdown",
     "metadata": {},
     "source": [
      "[11] Usa redondeo para abajo y arriba para calcular cotas para la parte inicial $S_N := \\sum_{n=1}^N n^{-2}$.\n",
      "\n",
      "[Para cambiar el modo del redondeo en Julia, usamos\n",
      "\n",
      "    set_rounding(Float64, RoundUp)\n",
      "    \n",
      "]"
     ]
    },
    {
     "cell_type": "code",
     "collapsed": false,
     "input": [
      "function suma(N)\n",
      "s=0\n",
      "for i=1:N\n",
      "    s=s+(1/i^2)\n",
      "end\n",
      "    s\n",
      "end\n",
      "\n",
      "println(suma(100))\n",
      "\n",
      "set_rounding(Float64,RoundUp)\n",
      "println(suma(100))\n",
      "\n",
      "set_rounding(Float64,RoundDown)\n",
      "println(suma(100))\n"
     ],
     "language": "python",
     "metadata": {},
     "outputs": [
      {
       "output_type": "stream",
       "stream": "stdout",
       "text": [
        "1."
       ]
      },
      {
       "output_type": "stream",
       "stream": "stdout",
       "text": [
        "634983900184882\n",
        "1.6349839001849027\n",
        "1.634983900184882\n"
       ]
      }
     ],
     "prompt_number": 27
    },
    {
     "cell_type": "markdown",
     "metadata": {},
     "source": [
      "[12] Utiliza tus dos \u00faltimos resultados para dar cotas *rigurosas* (es decir, garantizadas) para $S$.\n",
      "\n",
      "Verifica que el valor verdadero s\u00ed est\u00e9 contenido adentro de tus cotas."
     ]
    },
    {
     "cell_type": "code",
     "collapsed": false,
     "input": [
      "SN+Integral(x)<SN+TN=S<SN+Integral(x-1) son las cotas para S. Con Integral(x)=1/(N+1), Integral(x-1)=1/N"
     ],
     "language": "python",
     "metadata": {},
     "outputs": []
    },
    {
     "cell_type": "code",
     "collapsed": false,
     "input": [
      "with_rounding(Float64,RoundDown) do\n",
      "println(suma(100)+(1/101))\n",
      "end\n",
      "println(suma(1000000))\n",
      "with_rounding(Float64,RoundUp) do\n",
      "println(suma(100)+(1/100))\n",
      "end"
     ],
     "language": "python",
     "metadata": {},
     "outputs": [
      {
       "output_type": "stream",
       "stream": "stdout",
       "text": [
        "1."
       ]
      },
      {
       "output_type": "stream",
       "stream": "stdout",
       "text": [
        "6448848902838917\n",
        "1"
       ]
      },
      {
       "output_type": "stream",
       "stream": "stdout",
       "text": [
        ".6449330667377557\n",
        "1.6449839001849027\n"
       ]
      }
     ],
     "prompt_number": 31
    },
    {
     "cell_type": "markdown",
     "metadata": {},
     "source": [
      "[13] Repite el c\u00e1lculo con `BigFloat` para obtener m\u00e1s precisi\u00f3n.\n",
      "\n",
      "[En Julia, para cambiar la precisi\u00f3n de los `BigFloat`, usamos\n",
      "\n",
      "    set_bigfloat_precision(100).\n",
      "    \n",
      "]"
     ]
    },
    {
     "cell_type": "code",
     "collapsed": false,
     "input": [
      "with_bigfloat_precision(100) do\n",
      "\n",
      "function sumaB(N)\n",
      "    s=BigFloat(0.0)\n",
      "for i=1:N\n",
      "    s=s+(1/i^2)\n",
      "end\n",
      "    s\n",
      "end\n",
      "\n",
      "with_rounding(Float64,RoundDown) do\n",
      "println(sumaB(100)+(1/101))\n",
      "end\n",
      "println(sumaB(1000000))\n",
      "with_rounding(Float64,RoundUp) do\n",
      "println(sumaB(100)+(1/100))\n",
      "end\n",
      "    \n",
      "end"
     ],
     "language": "python",
     "metadata": {},
     "outputs": [
      {
       "output_type": "stream",
       "stream": "stdout",
       "text": [
        "1.6448848902839027394747915475359e+00\n"
       ]
      },
      {
       "output_type": "stream",
       "stream": "stdout",
       "text": [
        "1.6449330668487264105285287447594e+00"
       ]
      },
      {
       "output_type": "stream",
       "stream": "stdout",
       "text": [
        "\n",
        "1.6449839001848928845156980541042e+00\n"
       ]
      }
     ],
     "prompt_number": 33
    },
    {
     "cell_type": "code",
     "collapsed": false,
     "input": [],
     "language": "python",
     "metadata": {},
     "outputs": []
    }
   ],
   "metadata": {}
  }
 ]
}